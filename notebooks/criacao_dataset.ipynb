{
 "cells": [
  {
   "cell_type": "markdown",
   "id": "29339382",
   "metadata": {},
   "source": [
    "# Criação de um Dataframe de vendas"
   ]
  },
  {
   "cell_type": "markdown",
   "id": "188cd492",
   "metadata": {},
   "source": [
    "## 1. Importações de bibliotecas"
   ]
  },
  {
   "cell_type": "code",
   "execution_count": null,
   "id": "7306910a",
   "metadata": {},
   "outputs": [
    {
     "name": "stdout",
     "output_type": "stream",
     "text": [
      "Bibliotecas importadas com sucesso.\n"
     ]
    }
   ],
   "source": [
    "\n",
    "import pandas as pd\n",
    "import numpy as np\n",
    "import random\n",
    "from datetime import datetime, timedelta\n",
    "import os\n",
    "\n",
    "print(\"Bibliotecas importadas com sucesso.\")"
   ]
  },
  {
   "cell_type": "markdown",
   "id": "7ef5ccec",
   "metadata": {},
   "source": [
    "## 2. Configuração inicial"
   ]
  },
  {
   "cell_type": "code",
   "execution_count": null,
   "id": "c474a610",
   "metadata": {},
   "outputs": [
    {
     "name": "stdout",
     "output_type": "stream",
     "text": [
      "Sementes definidas para reprodutibilidade.\n"
     ]
    }
   ],
   "source": [
    "\n",
    "np.random.seed(46)\n",
    "random.seed(46)\n",
    "\n",
    "print(\"Sementes definidas para reprodutibilidade.\")\n"
   ]
  },
  {
   "cell_type": "code",
   "execution_count": null,
   "id": "ca68bced",
   "metadata": {},
   "outputs": [
    {
     "name": "stdout",
     "output_type": "stream",
     "text": [
      "Pasta 'datasets' criada (ou já existia).\n"
     ]
    }
   ],
   "source": [
    "\n",
    "output_dir = \"datasets\"\n",
    "os.makedirs(output_dir, exist_ok=True)\n",
    "\n",
    "print(f\"Pasta '{output_dir}' criada (ou já existia).\")\n"
   ]
  },
  {
   "cell_type": "markdown",
   "id": "89cdab24",
   "metadata": {},
   "source": [
    "## Definição dos parâmetros e lista de variaveis"
   ]
  },
  {
   "cell_type": "code",
   "execution_count": null,
   "id": "4eb76540",
   "metadata": {},
   "outputs": [
    {
     "data": {
      "text/plain": [
       "'Define quantos registros (linhas) o DataFrame terá inicialmente.'"
      ]
     },
     "execution_count": 21,
     "metadata": {},
     "output_type": "execute_result"
    }
   ],
   "source": [
    "\n",
    "num_registros = 3000\n",
    "\n",
    "print(f\"Criando DataFrame com {num_registros} registros...\")\n"
   ]
  },
  {
   "cell_type": "code",
   "execution_count": null,
   "id": "40f3f895",
   "metadata": {},
   "outputs": [
    {
     "data": {
      "text/plain": [
       "'Gera uma sequência diária de datas entre 01/01/2023 e 31/12/2023 (inclusive).\\n\\ndatas é um DatetimeIndex com todos os dias do ano (365 entradas).'"
      ]
     },
     "execution_count": 22,
     "metadata": {},
     "output_type": "execute_result"
    }
   ],
   "source": [
    "datas = pd.date_range(start=\"2023-01-01\", end=\"2023-12-31\", freq=\"D\")\n",
    "\n",
    "print(f\"Datas geradas de {datas.min().date()} a {datas.max().date()}.\")\n"
   ]
  },
  {
   "cell_type": "code",
   "execution_count": null,
   "id": "6231439a",
   "metadata": {},
   "outputs": [
    {
     "data": {
      "text/plain": [
       "'Listas de valores possíveis para as colunas categóricas — usadas para amostragem aleatória.'"
      ]
     },
     "execution_count": 23,
     "metadata": {},
     "output_type": "execute_result"
    }
   ],
   "source": [
    "produtos = [\"Notebook\", \"Smartphone\", \"Mouse\", \"Teclado\", \"Monitor\", \"Fone de Ouvido\", \"Impressora\", \"Cadeira Gamer\"]\n",
    "categorias = [\"Informática\", \"Acessórios\", \"Periféricos\", \"Móveis de Escritório\"]\n",
    "pagamentos = [\"Crédito\", \"Débito\", \"Pix\", \"Dinheiro\", \"Boleto\"]\n",
    "\n",
    "print(f\"Produtos, categorias e métodos de pagamento definidos.\")"
   ]
  },
  {
   "cell_type": "markdown",
   "id": "d4431286",
   "metadata": {},
   "source": [
    "## 4. Simulação do Dataset"
   ]
  },
  {
   "cell_type": "code",
   "execution_count": null,
   "id": "7e408b3f",
   "metadata": {},
   "outputs": [
    {
     "data": {
      "text/plain": [
       "'\"ID\": range(1, num_registros + 1) → cria IDs sequenciais (1..1000).\\n\\n\"Data\": np.random.choice(datas, size=num_registros) → escolhe aleatoriamente uma data (do DatetimeIndex) para cada linha. Resultado: coluna de tipo datetime (na maioria dos casos ficará como datetime64[ns] até que se insiram NaN).\\n\\n\"Produto\", \"Categoria\", \"Pagamento\" usam np.random.choice para escolher categorias aleatórias.\\n\\n\"Quantidade\": np.random.randint(1, 10, size=num_registros) → inteiros aleatórios entre 1 e 9 (inclusive o 1, exclusivo 10).\\n\\n\"Preço\": np.round(np.random.uniform(50, 5000, size=num_registros), 2) → preços float entre 50 e 5000, arredondados para 2 casas (simula ticket/valor unitário).\\nObservações de tipo:\\n\\nAntes de inserir NaN, ID é int, Quantidade int, Preço float, Data datetime, outras object (strings).'"
      ]
     },
     "execution_count": 24,
     "metadata": {},
     "output_type": "execute_result"
    }
   ],
   "source": [
    "'''\"ID\": range(1, num_registros + 1) → cria IDs sequenciais (1..1000).\n",
    "\n",
    "\"Data\": np.random.choice(datas, size=num_registros) → escolhe aleatoriamente uma data (do DatetimeIndex) para cada linha. Resultado: coluna de tipo datetime (na maioria dos casos ficará como datetime64[ns] até que se insiram NaN).\n",
    "\n",
    "\"Produto\", \"Categoria\", \"Pagamento\" usam np.random.choice para escolher categorias aleatórias.\n",
    "\n",
    "\"Quantidade\": np.random.randint(1, 10, size=num_registros) → inteiros aleatórios entre 1 e 9 (inclusive o 1, exclusivo 10).\n",
    "\n",
    "\"Preço\": np.round(np.random.uniform(50, 5000, size=num_registros), 2) → preços float entre 50 e 5000, arredondados para 2 casas (simula ticket/valor unitário).\n",
    "Observações de tipo:\n",
    "\n",
    "Antes de inserir NaN, ID é int, Quantidade int, Preço float, Data datetime, outras object (strings).'''\n",
    "\n",
    "df = pd.DataFrame({\n",
    "    \"ID\": range(1, num_registros + 1),\n",
    "    \"Data\": np.random.choice(datas, size=num_registros),\n",
    "    \"Produto\": np.random.choice(produtos, size=num_registros),\n",
    "    \"Categoria\": np.random.choice(categorias, size=num_registros),\n",
    "    \"Quantidade\": np.random.randint(1, 10, size=num_registros),\n",
    "    \"Preço\": np.round(np.random.uniform(50, 5000, size=num_registros), 2),\n",
    "    \"Pagamento\": np.random.choice(pagamentos, size=num_registros)\n",
    "})\n",
    "\n",
    "print(\"DataFrame criado com sucesso.\")"
   ]
  },
  {
   "cell_type": "markdown",
   "id": "6a88894b",
   "metadata": {},
   "source": [
    "## 5. Criação e Inserção de valores nulos"
   ]
  },
  {
   "cell_type": "code",
   "execution_count": null,
   "id": "35085f19",
   "metadata": {},
   "outputs": [
    {
     "data": {
      "text/plain": [
       "'df.size = número total de células do DataFrame = n_linhas * n_colunas (1000 * 7 = 7000).\\n\\nn_nulos = 5% de 7000 = 350 (no exemplo com 1000 linhas). Ou seja, serão transformadas em NaN 350 células aleatória'"
      ]
     },
     "execution_count": 25,
     "metadata": {},
     "output_type": "execute_result"
    }
   ],
   "source": [
    "'''df.size = número total de células do DataFrame = n_linhas * n_colunas (1000 * 7 = 7000).\n",
    "\n",
    "n_nulos = 5% de 7000 = 350 (no exemplo com 1000 linhas). Ou seja, serão transformadas em NaN 350 células aleatória'''\n",
    "\n",
    "nulos_porcentagem = 0.05\n",
    "cols_sem_id = df.columns[df.columns != \"ID\"]  # todas as colunas exceto ID\n",
    "n_celulas = df[cols_sem_id].size\n",
    "n_nulos = int(n_celulas * nulos_porcentagem)\n",
    "\n",
    "print(f\"Inserindo {n_nulos} valores NaN aleatórios ({nulos_porcentagem*100}% das células, exceto ID)...\")"
   ]
  },
  {
   "cell_type": "code",
   "execution_count": null,
   "id": "594baa1e",
   "metadata": {},
   "outputs": [],
   "source": [
    "'''Para cada uma das 350 iterações:\n",
    "\n",
    "i é um índice de linha aleatório (0..999).\n",
    "\n",
    "j é um índice de coluna aleatório (0..6).\n",
    "\n",
    "df.iat[i, j] = np.nan escreve NaN naquela célula (indexação por posição inteira — muito rápida para leituras/escritas escalares).\n",
    "Efeitos importantes\n",
    "\n",
    "Pode atingir qualquer coluna, inclusive ID ou Data. Se NaN for inserido numa coluna de inteiros (ID ou Quantidade), o pandas converte automaticamente essa coluna para float (porque NaN é um float especial em pandas). Isso é esperado e um ponto essencial a se lembrar quando tratar tipos depois.\n",
    "\n",
    "Inserir NaN na coluna Data fará com que ela deixe de ser datetime64 e passe a ter tipo object ou float (dependendo de quantos NaN), exigindo pd.to_datetime() depois para reconverter.\n",
    "\n",
    "df.iat usa posições inteiras: é diferente de .loc (rótulo) e .iloc (posição por fatia). .iat é o mais rápido para acessar um único elemento.\n",
    "\n",
    "Observação de performance\n",
    "\n",
    "Para 1000 linhas, este loop é OK. Para milhões de linhas, é preferível usar estratégias vetorizadas (por ex. amostrar pares (row,col) sem loop).'''\n",
    "\n",
    "for _ in range(n_nulos):\n",
    "    i = np.random.randint(0, df.shape[0])         # índice da linha\n",
    "    j = np.random.randint(0, len(cols_sem_id))    # índice da coluna (sem ID)\n",
    "    col = cols_sem_id[j]\n",
    "    df.at[i, col] = np.nan\n",
    "\n",
    "print(\"Valores NaN inseridos.\")\n",
    "   "
   ]
  },
  {
   "cell_type": "markdown",
   "id": "32f0afca",
   "metadata": {},
   "source": [
    "## 6. Gerando e Inserindo registros duplicados"
   ]
  },
  {
   "cell_type": "code",
   "execution_count": 38,
   "id": "6171cba2",
   "metadata": {},
   "outputs": [
    {
     "name": "stdout",
     "output_type": "stream",
     "text": [
      "92 linhas duplicadas inseridas. DataFrame agora tem 3182 linhas.\n"
     ]
    }
   ],
   "source": [
    "'''n_duplicatas = 3% de 1000 = 30 (aprox.).\n",
    "\n",
    "df.sample(...) seleciona aleatoriamente 30 linhas do DataFrame atual (note que isto é feito após inserir os NaN, então as linhas amostradas podem incluir NaN nas mesmas posições).\n",
    "\n",
    "pd.concat([df, duplicatas], ignore_index=True) concatena o DataFrame original com as linhas amostradas. ignore_index=True reindexa o DataFrame concatenado com novos índices 0..N-1.\n",
    "Por que isso mantém o mesmo ID\n",
    "\n",
    "duplicatas é uma cópia exata das linhas selecionadas — incluindo o valor de ID. Ao concatenar, essas linhas duplicadas carregam o mesmo valor de ID da linha original. Ou seja, você terá IDs repetidos — exatamente o que você pediu para simular duplicação de dados de sistema.\n",
    "Observações\n",
    "\n",
    "Atenção: se você tivesse reatribuído IDs depois (como em uma versão anterior do script), as duplicatas não seriam reconhecidas por df.duplicated() porque o ID na linha duplicada seria diferente. Aqui, mantemos IDs iguais de propósito.'''\n",
    "\n",
    "n_duplicatas = int(0.03 * len(df))\n",
    "duplicatas = df.sample(n=n_duplicatas, random_state=42)\n",
    "df = pd.concat([df, duplicatas], ignore_index=True)\n",
    "\n",
    "print(f\"{n_duplicatas} linhas duplicadas inseridas. DataFrame agora tem {len(df)} linhas.\")"
   ]
  },
  {
   "cell_type": "markdown",
   "id": "5182fda1",
   "metadata": {},
   "source": [
    "## 7. Salvando o Dataset "
   ]
  },
  {
   "cell_type": "code",
   "execution_count": null,
   "id": "035c550e",
   "metadata": {},
   "outputs": [
    {
     "data": {
      "text/plain": [
       "'os.path.join monta o caminho correto para o arquivo (ajuda em compatibilidade entre sistemas).\\n\\ndf.to_csv(..., index=False) salva o DataFrame em CSV sem a coluna de índice do pandas (apenas as colunas reais).'"
      ]
     },
     "execution_count": 28,
     "metadata": {},
     "output_type": "execute_result"
    }
   ],
   "source": [
    "'''os.path.join monta o caminho correto para o arquivo (ajuda em compatibilidade entre sistemas).\n",
    "\n",
    "df.to_csv(..., index=False) salva o DataFrame em CSV sem a coluna de índice do pandas (apenas as colunas reais).'''\n",
    "\n",
    "output_path = os.path.join(output_dir, \"vendas_raw.csv\")\n",
    "df.to_csv(output_path, index=False)\n",
    "\n",
    "print(f\"DataFrame salvo em '{output_path}'.\")"
   ]
  },
  {
   "cell_type": "markdown",
   "id": "43d1cc40",
   "metadata": {},
   "source": [
    "## 8. Prints para verificação do Dataset criado"
   ]
  },
  {
   "cell_type": "code",
   "execution_count": 30,
   "id": "46588260",
   "metadata": {},
   "outputs": [
    {
     "name": "stdout",
     "output_type": "stream",
     "text": [
      "Total de registros: 3090\n"
     ]
    }
   ],
   "source": [
    "\n",
    "print(f\"Total de registros: {len(df)}\")\n"
   ]
  },
  {
   "cell_type": "code",
   "execution_count": 31,
   "id": "4d525f90",
   "metadata": {},
   "outputs": [
    {
     "name": "stdout",
     "output_type": "stream",
     "text": [
      "Duplicatas: 90\n"
     ]
    }
   ],
   "source": [
    "\n",
    "print(f\"Duplicatas: {df.duplicated().sum()}\")"
   ]
  },
  {
   "cell_type": "code",
   "execution_count": 32,
   "id": "65ea6500",
   "metadata": {},
   "outputs": [
    {
     "name": "stdout",
     "output_type": "stream",
     "text": [
      "Nulos totais: 904\n"
     ]
    }
   ],
   "source": [
    "\n",
    "print(f\"Nulos totais: {df.isnull().sum().sum()}\")"
   ]
  },
  {
   "cell_type": "code",
   "execution_count": 33,
   "id": "6bcf374a",
   "metadata": {},
   "outputs": [
    {
     "name": "stdout",
     "output_type": "stream",
     "text": [
      "\n",
      "Resumo por coluna:\n",
      "<class 'pandas.core.frame.DataFrame'>\n",
      "RangeIndex: 3090 entries, 0 to 3089\n",
      "Data columns (total 7 columns):\n",
      " #   Column      Non-Null Count  Dtype         \n",
      "---  ------      --------------  -----         \n",
      " 0   ID          3090 non-null   int64         \n",
      " 1   Data        2936 non-null   datetime64[ns]\n",
      " 2   Produto     2942 non-null   object        \n",
      " 3   Categoria   2916 non-null   object        \n",
      " 4   Quantidade  2954 non-null   float64       \n",
      " 5   Preço       2934 non-null   float64       \n",
      " 6   Pagamento   2954 non-null   object        \n",
      "dtypes: datetime64[ns](1), float64(2), int64(1), object(3)\n",
      "memory usage: 169.1+ KB\n",
      "None\n"
     ]
    }
   ],
   "source": [
    "\n",
    "print(\"\\nResumo por coluna:\")\n",
    "print(df.info())"
   ]
  }
 ],
 "metadata": {
  "kernelspec": {
   "display_name": "Python 3",
   "language": "python",
   "name": "python3"
  },
  "language_info": {
   "codemirror_mode": {
    "name": "ipython",
    "version": 3
   },
   "file_extension": ".py",
   "mimetype": "text/x-python",
   "name": "python",
   "nbconvert_exporter": "python",
   "pygments_lexer": "ipython3",
   "version": "3.13.5"
  }
 },
 "nbformat": 4,
 "nbformat_minor": 5
}
