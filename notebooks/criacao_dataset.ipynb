{
 "cells": [
  {
   "cell_type": "code",
   "execution_count": null,
   "id": "7306910a",
   "metadata": {},
   "outputs": [],
   "source": [
    "import pandas as pd\n",
    "import numpy as np\n",
    "import random\n",
    "from datetime import datetime, timedelta\n",
    "import os"
   ]
  },
  {
   "cell_type": "code",
   "execution_count": 54,
   "id": "c474a610",
   "metadata": {},
   "outputs": [],
   "source": [
    "np.random.seed(46)\n",
    "random.seed(46)"
   ]
  },
  {
   "cell_type": "code",
   "execution_count": 55,
   "id": "ca68bced",
   "metadata": {},
   "outputs": [],
   "source": [
    "output_dir = \"datasets\"\n",
    "os.makedirs(output_dir, exist_ok=True)"
   ]
  },
  {
   "cell_type": "code",
   "execution_count": 56,
   "id": "6231439a",
   "metadata": {},
   "outputs": [],
   "source": [
    "num_registros = 3000\n",
    "\n",
    "datas = pd.date_range(start=\"2023-01-01\", end=\"2023-12-31\", freq=\"D\")\n",
    "produtos = [\"Notebook\", \"Smartphone\", \"Mouse\", \"Teclado\", \"Monitor\", \"Fone de Ouvido\", \"Impressora\", \"Cadeira Gamer\"]\n",
    "categorias = [\"Informática\", \"Acessórios\", \"Periféricos\", \"Móveis de Escritório\"]\n",
    "pagamentos = [\"Crédito\", \"Débito\", \"Pix\", \"Dinheiro\", \"Boleto\"]"
   ]
  },
  {
   "cell_type": "code",
   "execution_count": 57,
   "id": "7e408b3f",
   "metadata": {},
   "outputs": [],
   "source": [
    "df = pd.DataFrame({\n",
    "    \"ID\": range(1, num_registros + 1),\n",
    "    \"Data\": np.random.choice(datas, size=num_registros),\n",
    "    \"Produto\": np.random.choice(produtos, size=num_registros),\n",
    "    \"Categoria\": np.random.choice(categorias, size=num_registros),\n",
    "    \"Quantidade\": np.random.randint(1, 10, size=num_registros),\n",
    "    \"Preço\": np.round(np.random.uniform(50, 5000, size=num_registros), 2),\n",
    "    \"Pagamento\": np.random.choice(pagamentos, size=num_registros)\n",
    "})\n"
   ]
  },
  {
   "cell_type": "code",
   "execution_count": 58,
   "id": "594baa1e",
   "metadata": {},
   "outputs": [],
   "source": [
    "nulos_porcentagem = 0.05\n",
    "n_celulas = df.size\n",
    "n_nulos = int(n_celulas * nulos_porcentagem)\n",
    "\n",
    "for _ in range(n_nulos):\n",
    "    i = np.random.randint(0, df.shape[0])\n",
    "    j = np.random.randint(0, df.shape[1])\n",
    "    df.iat[i, j] = np.nan"
   ]
  },
  {
   "cell_type": "code",
   "execution_count": 59,
   "id": "6171cba2",
   "metadata": {},
   "outputs": [],
   "source": [
    "n_duplicatas = int(0.03 * len(df))\n",
    "duplicatas = df.sample(n=n_duplicatas, random_state=42)\n",
    "df = pd.concat([df, duplicatas], ignore_index=True)\n"
   ]
  },
  {
   "cell_type": "code",
   "execution_count": 60,
   "id": "035c550e",
   "metadata": {},
   "outputs": [],
   "source": [
    "output_path = os.path.join(output_dir, \"vendas_raw.csv\")\n",
    "df.to_csv(output_path, index=False)"
   ]
  },
  {
   "cell_type": "code",
   "execution_count": 61,
   "id": "137219cd",
   "metadata": {},
   "outputs": [
    {
     "name": "stdout",
     "output_type": "stream",
     "text": [
      "✅ Dataset gerado com sucesso: datasets\\vendas_raw.csv\n"
     ]
    }
   ],
   "source": [
    "print(f\"✅ Dataset gerado com sucesso: {output_path}\")\n"
   ]
  },
  {
   "cell_type": "code",
   "execution_count": 62,
   "id": "46588260",
   "metadata": {},
   "outputs": [
    {
     "name": "stdout",
     "output_type": "stream",
     "text": [
      "Total de registros: 3090\n"
     ]
    }
   ],
   "source": [
    "print(f\"Total de registros: {len(df)}\")\n"
   ]
  },
  {
   "cell_type": "code",
   "execution_count": 63,
   "id": "4d525f90",
   "metadata": {},
   "outputs": [
    {
     "name": "stdout",
     "output_type": "stream",
     "text": [
      "Duplicatas reais: 90\n"
     ]
    }
   ],
   "source": [
    "print(f\"Duplicatas reais: {df.duplicated().sum()}\")\n"
   ]
  },
  {
   "cell_type": "code",
   "execution_count": 64,
   "id": "65ea6500",
   "metadata": {},
   "outputs": [
    {
     "name": "stdout",
     "output_type": "stream",
     "text": [
      "Nulos totais: 1058\n"
     ]
    }
   ],
   "source": [
    "print(f\"Nulos totais: {df.isnull().sum().sum()}\")\n"
   ]
  },
  {
   "cell_type": "code",
   "execution_count": 65,
   "id": "6bcf374a",
   "metadata": {},
   "outputs": [
    {
     "name": "stdout",
     "output_type": "stream",
     "text": [
      "\n",
      "Resumo por coluna:\n",
      "<class 'pandas.core.frame.DataFrame'>\n",
      "RangeIndex: 3090 entries, 0 to 3089\n",
      "Data columns (total 7 columns):\n",
      " #   Column      Non-Null Count  Dtype         \n",
      "---  ------      --------------  -----         \n",
      " 0   ID          2934 non-null   float64       \n",
      " 1   Data        2933 non-null   datetime64[ns]\n",
      " 2   Produto     2914 non-null   object        \n",
      " 3   Categoria   2954 non-null   object        \n",
      " 4   Quantidade  2940 non-null   float64       \n",
      " 5   Preço       2952 non-null   float64       \n",
      " 6   Pagamento   2945 non-null   object        \n",
      "dtypes: datetime64[ns](1), float64(3), object(3)\n",
      "memory usage: 169.1+ KB\n",
      "None\n"
     ]
    }
   ],
   "source": [
    "print(\"\\nResumo por coluna:\")\n",
    "print(df.info())"
   ]
  }
 ],
 "metadata": {
  "kernelspec": {
   "display_name": "Python 3",
   "language": "python",
   "name": "python3"
  },
  "language_info": {
   "codemirror_mode": {
    "name": "ipython",
    "version": 3
   },
   "file_extension": ".py",
   "mimetype": "text/x-python",
   "name": "python",
   "nbconvert_exporter": "python",
   "pygments_lexer": "ipython3",
   "version": "3.13.5"
  }
 },
 "nbformat": 4,
 "nbformat_minor": 5
}
