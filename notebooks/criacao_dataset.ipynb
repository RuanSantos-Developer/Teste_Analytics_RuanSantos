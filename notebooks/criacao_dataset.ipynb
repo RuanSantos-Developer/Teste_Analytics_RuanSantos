{
 "cells": [
  {
   "cell_type": "markdown",
   "id": "29339382",
   "metadata": {},
   "source": [
    "# Criação de um Dataframe de vendas"
   ]
  },
  {
   "cell_type": "markdown",
   "id": "188cd492",
   "metadata": {},
   "source": [
    "## 1. Importações de bibliotecas"
   ]
  },
  {
   "cell_type": "code",
   "execution_count": 49,
   "id": "7306910a",
   "metadata": {},
   "outputs": [
    {
     "name": "stdout",
     "output_type": "stream",
     "text": [
      "Bibliotecas importadas com sucesso.\n"
     ]
    }
   ],
   "source": [
    "# Importando bibliotecas necessárias\n",
    "# Importar numpy e random para geração de números aleatórios é uma boa prática\n",
    "\n",
    "\n",
    "import pandas as pd\n",
    "import numpy as np\n",
    "import random\n",
    "from datetime import datetime, timedelta\n",
    "import os\n",
    "\n",
    "print(\"Bibliotecas importadas com sucesso.\");"
   ]
  },
  {
   "cell_type": "markdown",
   "id": "7ef5ccec",
   "metadata": {},
   "source": [
    "## 2. Configuração inicial"
   ]
  },
  {
   "cell_type": "code",
   "execution_count": 50,
   "id": "c474a610",
   "metadata": {},
   "outputs": [
    {
     "name": "stdout",
     "output_type": "stream",
     "text": [
      "Sementes definidas para reprodutibilidade.\n"
     ]
    }
   ],
   "source": [
    "# Definindo sementes para reprodutibilidade\n",
    "# Isso garante que os valores aleatórios gerados sejam os mesmos em cada execução\n",
    "# Usaremos np.random\n",
    "\n",
    "np.random.seed(46)\n",
    "random.seed(46)\n",
    "\n",
    "print(\"Sementes definidas para reprodutibilidade.\");\n"
   ]
  },
  {
   "cell_type": "code",
   "execution_count": 51,
   "id": "ca68bced",
   "metadata": {},
   "outputs": [
    {
     "name": "stdout",
     "output_type": "stream",
     "text": [
      "Pasta 'Dataframes' criada (ou já existia).\n"
     ]
    }
   ],
   "source": [
    "# Criando diretório para salvar o Dataframe\n",
    "# O diretório \"Dataframes\" será criado na raiz do projeto (dentro da pasta notebooks)\n",
    "\n",
    "\n",
    "try: \n",
    "\n",
    "    output_dir = \"Dataframes\"\n",
    "    os.makedirs(output_dir, exist_ok=True)\n",
    "\n",
    "    print(f\"Pasta '{output_dir}' criada (ou já existia).\");\n",
    "\n",
    "\n",
    "except PermissionError:\n",
    "\n",
    "    print(f\"Permissão negada para criar o diretório '{output_dir}'. Verifique as permissões do sistema.\")    \n",
    "\n",
    "except Exception as e:\n",
    "\n",
    "    print(f\"Erro ao criar diretório: {e}\")    \n"
   ]
  },
  {
   "cell_type": "markdown",
   "id": "89cdab24",
   "metadata": {},
   "source": [
    "## Definição dos parâmetros e lista de variaveis"
   ]
  },
  {
   "cell_type": "code",
   "execution_count": 52,
   "id": "4eb76540",
   "metadata": {},
   "outputs": [
    {
     "name": "stdout",
     "output_type": "stream",
     "text": [
      "Criando DataFrame com 3000 registros...\n"
     ]
    }
   ],
   "source": [
    "# Definindo o número de registros que o dataset terá\n",
    "# Pode ser ajustado se necessário\n",
    "\n",
    "num_registros = 3000\n",
    "\n",
    "print(f\"Criando DataFrame com {num_registros} registros...\");\n"
   ]
  },
  {
   "cell_type": "code",
   "execution_count": 53,
   "id": "40f3f895",
   "metadata": {},
   "outputs": [
    {
     "name": "stdout",
     "output_type": "stream",
     "text": [
      "Datas geradas de 2023-01-01 a 2023-12-31.\n"
     ]
    }
   ],
   "source": [
    "# Gerando uma série de datas diárias para o ano de 2023\n",
    "# Essas datas serão usadas para popular a coluna \"Data da Venda\"\n",
    "\n",
    "datas = pd.date_range(start=\"2023-01-01\", end=\"2023-12-31\", freq=\"D\")\n",
    "\n",
    "print(f\"Datas geradas de {datas.min().date()} a {datas.max().date()}.\");\n"
   ]
  },
  {
   "cell_type": "code",
   "execution_count": 54,
   "id": "6231439a",
   "metadata": {},
   "outputs": [
    {
     "name": "stdout",
     "output_type": "stream",
     "text": [
      "Produtos, categorias e métodos de pagamento definidos.\n"
     ]
    }
   ],
   "source": [
    "# Definindo listas de produtos, categorias e métodos de pagamento\n",
    "# Esses valores serão usados para popular o DataFrame\n",
    "\n",
    "mapa_produtos = {\n",
    "    \"Ferramentas\": [\n",
    "        \"Martelo\", \"Chave de Fenda\", \"Furadeira\", \"Serrote\", \n",
    "        \"Trena\", \"Alicate\", \"Parafusadeira\", \"Lixadeira\"\n",
    "    ],\n",
    "    \"Elétrica\": [\n",
    "        \"Tomada\", \"Interruptor\", \"Fio Elétrico\", \"Lâmpada LED\", \n",
    "        \"Disjuntor\", \"Extensão\", \"Lanterna\", \"Pilha\"\n",
    "    ],\n",
    "    \"Hidráulica\": [\n",
    "        \"Torneira\", \"Cano PVC\", \"Registro de Água\", \"Conexão T\", \n",
    "        \"Caixa de água\", \"Válvula de Descarga\", \"Mangueira\", \"Bomba de água\"\n",
    "    ],\n",
    "    \"Tintas e Acabamento\": [\n",
    "        \"Tinta Acrílica\", \"Tinta Esmalte\", \"Rolo de Pintura\", \"Lixa\", \n",
    "        \"Pincel\", \"Massa Corrida\", \"Selador\", \"Verniz\"\n",
    "    ],\n",
    "    \"Construção e Estrutura\": [\n",
    "        \"Cimento\", \"Areia\", \"Brita\", \"Tijolo\", \"Bloco de Concreto\", \n",
    "        \"Argamassa\", \"Telha Cerâmica\", \"Verga Metálica\"\n",
    "    ],\n",
    "    \"Jardinagem\": [\n",
    "        \"Pá\", \"Enxada\", \"Regador\", \"Mangueira Jardim\", \n",
    "        \"Sementes de Grama\", \"Tesoura de Poda\", \"Adubo\", \"Carrinho de Mão\"\n",
    "    ],\n",
    "    \"Segurança e EPI\": [\n",
    "        \"Capacete\", \"Luva de Proteção\", \"Máscara Respiratória\", \n",
    "        \"Óculos de Proteção\", \"Protetor Auricular\", \"Botina\", \"Colete Reflexivo\"\n",
    "    ]\n",
    "}\n",
    "\n",
    "pagamentos = [\n",
    "    \"Crédito\", \"Débito\", \"Pix\", \"Dinheiro\", \n",
    "    \"Boleto\", \"Transferência Bancária\", \"Carteira Digital\"\n",
    "]\n",
    "\n",
    "print(f\"Produtos, categorias e métodos de pagamento definidos.\");"
   ]
  },
  {
   "cell_type": "markdown",
   "id": "d4431286",
   "metadata": {},
   "source": [
    "## 4. Simulação do Dataset"
   ]
  },
  {
   "cell_type": "code",
   "execution_count": 55,
   "id": "3a7b9db1",
   "metadata": {},
   "outputs": [],
   "source": [
    "categorias_lista = []\n",
    "produtos_lista = []\n",
    "\n",
    "for _ in range(num_registros):\n",
    "    categoria = random.choice(list(mapa_produtos.keys()))\n",
    "    produto = random.choice(mapa_produtos[categoria])\n",
    "    categorias_lista.append(categoria)\n",
    "    produtos_lista.append(produto)"
   ]
  },
  {
   "cell_type": "code",
   "execution_count": 56,
   "id": "7e408b3f",
   "metadata": {},
   "outputs": [
    {
     "name": "stdout",
     "output_type": "stream",
     "text": [
      "DataFrame criado com sucesso ✅.\n"
     ]
    }
   ],
   "source": [
    "# Criando o DataFrame com dados simulados utilizando escolhas aleatórias\n",
    "# Cada coluna é preenchida com os dados em aleatoriedade para simular um cenário real de vendas\n",
    "\n",
    "df = pd.DataFrame({\n",
    "    \"ID\": range(1, num_registros + 1),\n",
    "    \"Data\": np.random.choice(datas, size=num_registros),\n",
    "    \"Produto\": produtos_lista,\n",
    "    \"Categoria\": categorias_lista,\n",
    "    \"Quantidade\": np.random.randint(1, 101, size=num_registros),\n",
    "    \"Preço\": np.round(np.random.uniform(50, 5000, size=num_registros), 2),\n",
    "    \"Pagamento\": np.random.choice(pagamentos, size=num_registros)\n",
    "})\n",
    "\n",
    "print(\"DataFrame criado com sucesso ✅.\");"
   ]
  },
  {
   "cell_type": "markdown",
   "id": "6a88894b",
   "metadata": {},
   "source": [
    "## 5. Criação e Inserção de valores nulos"
   ]
  },
  {
   "cell_type": "code",
   "execution_count": 57,
   "id": "35085f19",
   "metadata": {},
   "outputs": [
    {
     "name": "stdout",
     "output_type": "stream",
     "text": [
      "Inserindo 900 valores NaN aleatórios\n",
      " (5.0% das células, exceto ID)...\n"
     ]
    }
   ],
   "source": [
    "# Gera 5% de valores nulos aleatórios (exceto na coluna ID)\n",
    "# Isso simula falhas reais de preenchimento em bases de vendas\n",
    "\n",
    "nulos_porcentagem = 0.05\n",
    "cols_sem_id = df.columns[df.columns != \"ID\"] \n",
    "num_celulas = df[cols_sem_id].size\n",
    "num_nulos = int(num_celulas * nulos_porcentagem)\n",
    "\n",
    "for _ in range(num_nulos):\n",
    "    i = np.random.randint(0, df.shape[0])\n",
    "    j = np.random.randint(0, len(cols_sem_id))\n",
    "    col = cols_sem_id[j]\n",
    "    df.at[i, col] = np.nan\n",
    "\n",
    "\n",
    "print(f\"Inserindo {num_nulos} valores NaN aleatórios\\n ({nulos_porcentagem*100}% das células, exceto ID)...\");"
   ]
  },
  {
   "cell_type": "markdown",
   "id": "32f0afca",
   "metadata": {},
   "source": [
    "## 6. Gerando e Inserindo registros duplicados"
   ]
  },
  {
   "cell_type": "code",
   "execution_count": 58,
   "id": "6171cba2",
   "metadata": {},
   "outputs": [
    {
     "name": "stdout",
     "output_type": "stream",
     "text": [
      "90 linhas duplicadas inseridas. DataFrame agora tem 3090 linhas.\n"
     ]
    }
   ],
   "source": [
    "# Inserindo 3% de linhas duplicadas no DataFrame\n",
    "# Isso simula falhas reais de preenchimento em bases de vendas\n",
    "\n",
    "\n",
    "num_duplicadas = int(0.03 * len(df))\n",
    "duplicadas = df.sample(n=num_duplicadas, random_state=42)\n",
    "df = pd.concat([df, duplicadas], ignore_index=True)\n",
    "\n",
    "print(f\"{num_duplicadas} linhas duplicadas inseridas. DataFrame agora tem {len(df)} linhas.\");"
   ]
  },
  {
   "cell_type": "markdown",
   "id": "5182fda1",
   "metadata": {},
   "source": [
    "## 7. Salvando o Dataset "
   ]
  },
  {
   "cell_type": "code",
   "execution_count": 59,
   "id": "035c550e",
   "metadata": {},
   "outputs": [
    {
     "name": "stdout",
     "output_type": "stream",
     "text": [
      "DataFrame salvo em 'Dataframes\\vendas_raw.csv'.\n"
     ]
    }
   ],
   "source": [
    "# Salvando o DataFrame em um arquivo CSV no diretório criado\n",
    "# os.path.join monta o caminho correto para o arquivo (ajuda em compatibilidade entre sistemas)\n",
    "\n",
    "try:\n",
    "\n",
    "    output_path = os.path.join(output_dir, \"vendas_raw.csv\")\n",
    "    df.to_csv(output_path, index=False)\n",
    "\n",
    "    print(f\"DataFrame salvo em '{output_path}'.\")\n",
    "\n",
    "except PermissionError:\n",
    "\n",
    "    print(f\"❌ Erro de Permissão: Não foi possível escrever no diretório '{output_dir}'. Verifique as permissões.\")    \n",
    "\n",
    "except Exception as e:\n",
    "    print(f\"❌ Ocorreu um erro inesperado ao salvar o arquivo: {e}\")"
   ]
  },
  {
   "cell_type": "markdown",
   "id": "43d1cc40",
   "metadata": {},
   "source": [
    "## 8. Prints para verificação do Dataset criado"
   ]
  },
  {
   "cell_type": "code",
   "execution_count": 60,
   "id": "46588260",
   "metadata": {},
   "outputs": [
    {
     "name": "stdout",
     "output_type": "stream",
     "text": [
      "Total de registros: 3090\n"
     ]
    }
   ],
   "source": [
    "# Mostrando o total de registros no DataFrame final\n",
    "\n",
    "print(f\"Total de registros: {len(df)}\")\n"
   ]
  },
  {
   "cell_type": "code",
   "execution_count": 61,
   "id": "4d525f90",
   "metadata": {},
   "outputs": [
    {
     "name": "stdout",
     "output_type": "stream",
     "text": [
      "Duplicatas: 90\n"
     ]
    }
   ],
   "source": [
    "# Mostrando o total de duplicatas no DataFrame final\n",
    "\n",
    "print(f\"Duplicatas: {df.duplicated().sum()}\")"
   ]
  },
  {
   "cell_type": "code",
   "execution_count": 62,
   "id": "65ea6500",
   "metadata": {},
   "outputs": [
    {
     "name": "stdout",
     "output_type": "stream",
     "text": [
      "Nulos totais: 900\n"
     ]
    }
   ],
   "source": [
    "# Mostrando o total de nulos no DataFrame final\n",
    "\n",
    "print(f\"Nulos totais: {df.isnull().sum().sum()}\")"
   ]
  },
  {
   "cell_type": "code",
   "execution_count": 63,
   "id": "c285524f",
   "metadata": {},
   "outputs": [
    {
     "data": {
      "text/html": [
       "<div>\n",
       "<style scoped>\n",
       "    .dataframe tbody tr th:only-of-type {\n",
       "        vertical-align: middle;\n",
       "    }\n",
       "\n",
       "    .dataframe tbody tr th {\n",
       "        vertical-align: top;\n",
       "    }\n",
       "\n",
       "    .dataframe thead th {\n",
       "        text-align: right;\n",
       "    }\n",
       "</style>\n",
       "<table border=\"1\" class=\"dataframe\">\n",
       "  <thead>\n",
       "    <tr style=\"text-align: right;\">\n",
       "      <th></th>\n",
       "      <th>ID</th>\n",
       "      <th>Data</th>\n",
       "      <th>Produto</th>\n",
       "      <th>Categoria</th>\n",
       "      <th>Quantidade</th>\n",
       "      <th>Preço</th>\n",
       "      <th>Pagamento</th>\n",
       "    </tr>\n",
       "  </thead>\n",
       "  <tbody>\n",
       "    <tr>\n",
       "      <th>0</th>\n",
       "      <td>1</td>\n",
       "      <td>2023-07-09</td>\n",
       "      <td>Parafusadeira</td>\n",
       "      <td>Ferramentas</td>\n",
       "      <td>66.0</td>\n",
       "      <td>4763.78</td>\n",
       "      <td>Carteira Digital</td>\n",
       "    </tr>\n",
       "    <tr>\n",
       "      <th>1</th>\n",
       "      <td>2</td>\n",
       "      <td>2023-11-22</td>\n",
       "      <td>Serrote</td>\n",
       "      <td>Ferramentas</td>\n",
       "      <td>10.0</td>\n",
       "      <td>NaN</td>\n",
       "      <td>Pix</td>\n",
       "    </tr>\n",
       "    <tr>\n",
       "      <th>2</th>\n",
       "      <td>3</td>\n",
       "      <td>2023-02-10</td>\n",
       "      <td>Regador</td>\n",
       "      <td>Jardinagem</td>\n",
       "      <td>56.0</td>\n",
       "      <td>3572.49</td>\n",
       "      <td>Pix</td>\n",
       "    </tr>\n",
       "    <tr>\n",
       "      <th>3</th>\n",
       "      <td>4</td>\n",
       "      <td>2023-05-27</td>\n",
       "      <td>Cimento</td>\n",
       "      <td>Construção e Estrutura</td>\n",
       "      <td>59.0</td>\n",
       "      <td>1037.29</td>\n",
       "      <td>Pix</td>\n",
       "    </tr>\n",
       "    <tr>\n",
       "      <th>4</th>\n",
       "      <td>5</td>\n",
       "      <td>2023-07-23</td>\n",
       "      <td>Chave de Fenda</td>\n",
       "      <td>Ferramentas</td>\n",
       "      <td>77.0</td>\n",
       "      <td>2157.34</td>\n",
       "      <td>Dinheiro</td>\n",
       "    </tr>\n",
       "    <tr>\n",
       "      <th>5</th>\n",
       "      <td>6</td>\n",
       "      <td>2023-12-16</td>\n",
       "      <td>Máscara Respiratória</td>\n",
       "      <td>Segurança e EPI</td>\n",
       "      <td>5.0</td>\n",
       "      <td>1584.25</td>\n",
       "      <td>Crédito</td>\n",
       "    </tr>\n",
       "    <tr>\n",
       "      <th>6</th>\n",
       "      <td>7</td>\n",
       "      <td>2023-11-13</td>\n",
       "      <td>Pá</td>\n",
       "      <td>Jardinagem</td>\n",
       "      <td>72.0</td>\n",
       "      <td>2243.43</td>\n",
       "      <td>Boleto</td>\n",
       "    </tr>\n",
       "    <tr>\n",
       "      <th>7</th>\n",
       "      <td>8</td>\n",
       "      <td>2023-08-24</td>\n",
       "      <td>Capacete</td>\n",
       "      <td>Segurança e EPI</td>\n",
       "      <td>34.0</td>\n",
       "      <td>2752.94</td>\n",
       "      <td>Pix</td>\n",
       "    </tr>\n",
       "    <tr>\n",
       "      <th>8</th>\n",
       "      <td>9</td>\n",
       "      <td>2023-05-11</td>\n",
       "      <td>Disjuntor</td>\n",
       "      <td>Elétrica</td>\n",
       "      <td>51.0</td>\n",
       "      <td>876.90</td>\n",
       "      <td>Crédito</td>\n",
       "    </tr>\n",
       "    <tr>\n",
       "      <th>9</th>\n",
       "      <td>10</td>\n",
       "      <td>2023-03-14</td>\n",
       "      <td>Argamassa</td>\n",
       "      <td>Construção e Estrutura</td>\n",
       "      <td>50.0</td>\n",
       "      <td>1043.67</td>\n",
       "      <td>Crédito</td>\n",
       "    </tr>\n",
       "  </tbody>\n",
       "</table>\n",
       "</div>"
      ],
      "text/plain": [
       "   ID       Data               Produto               Categoria  Quantidade  \\\n",
       "0   1 2023-07-09         Parafusadeira             Ferramentas        66.0   \n",
       "1   2 2023-11-22               Serrote             Ferramentas        10.0   \n",
       "2   3 2023-02-10               Regador              Jardinagem        56.0   \n",
       "3   4 2023-05-27               Cimento  Construção e Estrutura        59.0   \n",
       "4   5 2023-07-23        Chave de Fenda             Ferramentas        77.0   \n",
       "5   6 2023-12-16  Máscara Respiratória         Segurança e EPI         5.0   \n",
       "6   7 2023-11-13                    Pá              Jardinagem        72.0   \n",
       "7   8 2023-08-24              Capacete         Segurança e EPI        34.0   \n",
       "8   9 2023-05-11             Disjuntor                Elétrica        51.0   \n",
       "9  10 2023-03-14             Argamassa  Construção e Estrutura        50.0   \n",
       "\n",
       "     Preço         Pagamento  \n",
       "0  4763.78  Carteira Digital  \n",
       "1      NaN               Pix  \n",
       "2  3572.49               Pix  \n",
       "3  1037.29               Pix  \n",
       "4  2157.34          Dinheiro  \n",
       "5  1584.25           Crédito  \n",
       "6  2243.43            Boleto  \n",
       "7  2752.94               Pix  \n",
       "8   876.90           Crédito  \n",
       "9  1043.67           Crédito  "
      ]
     },
     "execution_count": 63,
     "metadata": {},
     "output_type": "execute_result"
    }
   ],
   "source": [
    "# Verificando as primeiras 10 linhas do DataFrame final\n",
    "# Isso ajuda a ter uma visão rápida dos dados gerados\n",
    "\n",
    "df.head(10)"
   ]
  },
  {
   "cell_type": "code",
   "execution_count": 64,
   "id": "6bcf374a",
   "metadata": {},
   "outputs": [
    {
     "name": "stdout",
     "output_type": "stream",
     "text": [
      "\n",
      "Resumo por coluna:\n",
      "<class 'pandas.core.frame.DataFrame'>\n",
      "RangeIndex: 3090 entries, 0 to 3089\n",
      "Data columns (total 7 columns):\n",
      " #   Column      Non-Null Count  Dtype         \n",
      "---  ------      --------------  -----         \n",
      " 0   ID          3090 non-null   int64         \n",
      " 1   Data        2946 non-null   datetime64[ns]\n",
      " 2   Produto     2942 non-null   object        \n",
      " 3   Categoria   2951 non-null   object        \n",
      " 4   Quantidade  2939 non-null   float64       \n",
      " 5   Preço       2932 non-null   float64       \n",
      " 6   Pagamento   2930 non-null   object        \n",
      "dtypes: datetime64[ns](1), float64(2), int64(1), object(3)\n",
      "memory usage: 169.1+ KB\n",
      "None\n"
     ]
    }
   ],
   "source": [
    "# Mostrando um resumo por coluna do DataFrame final\n",
    "# Ajuda a entender superficialmente tipos de dados e nulos por coluna\n",
    "\n",
    "print(\"\\nResumo por coluna:\")\n",
    "print(df.info())"
   ]
  }
 ],
 "metadata": {
  "kernelspec": {
   "display_name": "Python 3",
   "language": "python",
   "name": "python3"
  },
  "language_info": {
   "codemirror_mode": {
    "name": "ipython",
    "version": 3
   },
   "file_extension": ".py",
   "mimetype": "text/x-python",
   "name": "python",
   "nbconvert_exporter": "python",
   "pygments_lexer": "ipython3",
   "version": "3.13.5"
  }
 },
 "nbformat": 4,
 "nbformat_minor": 5
}
