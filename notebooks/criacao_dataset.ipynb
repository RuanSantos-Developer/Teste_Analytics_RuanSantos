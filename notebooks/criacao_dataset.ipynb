{
 "cells": [
  {
   "cell_type": "markdown",
   "id": "29339382",
   "metadata": {},
   "source": [
    "# Criação de um Dataframe de vendas"
   ]
  },
  {
   "cell_type": "markdown",
   "id": "188cd492",
   "metadata": {},
   "source": [
    "## 1. Importações de bibliotecas"
   ]
  },
  {
   "cell_type": "code",
   "execution_count": 248,
   "id": "7306910a",
   "metadata": {},
   "outputs": [
    {
     "name": "stdout",
     "output_type": "stream",
     "text": [
      "Bibliotecas importadas com sucesso.\n"
     ]
    }
   ],
   "source": [
    "# Importando bibliotecas necessárias\n",
    "# Importar numpy e random para geração de números aleatórios é uma boa prática\n",
    "\n",
    "\n",
    "import pandas as pd\n",
    "import numpy as np\n",
    "import random\n",
    "from datetime import datetime, timedelta\n",
    "import os\n",
    "\n",
    "print(\"Bibliotecas importadas com sucesso.\");"
   ]
  },
  {
   "cell_type": "markdown",
   "id": "7ef5ccec",
   "metadata": {},
   "source": [
    "## 2. Configuração inicial"
   ]
  },
  {
   "cell_type": "code",
   "execution_count": 249,
   "id": "c474a610",
   "metadata": {},
   "outputs": [
    {
     "name": "stdout",
     "output_type": "stream",
     "text": [
      "Sementes definidas para reprodutibilidade.\n"
     ]
    }
   ],
   "source": [
    "# Definindo sementes para reprodutibilidade\n",
    "# Isso garante que os valores aleatórios gerados sejam os mesmos em cada execução\n",
    "# Usaremos np.random\n",
    "\n",
    "np.random.seed(46)\n",
    "random.seed(46)\n",
    "\n",
    "print(\"Sementes definidas para reprodutibilidade.\");\n"
   ]
  },
  {
   "cell_type": "code",
   "execution_count": 250,
   "id": "ca68bced",
   "metadata": {},
   "outputs": [
    {
     "name": "stdout",
     "output_type": "stream",
     "text": [
      "Pasta 'Dataframes' criada (ou já existia).\n"
     ]
    }
   ],
   "source": [
    "# Criando diretório para salvar o Dataframe\n",
    "# O diretório \"Dataframes\" será criado na raiz do projeto (dentro da pasta notebooks)\n",
    "\n",
    "try: \n",
    "\n",
    "    output_dir = \"Dataframes\"\n",
    "    os.makedirs(output_dir, exist_ok=True)\n",
    "\n",
    "    print(f\"Pasta '{output_dir}' criada (ou já existia).\");\n",
    "\n",
    "\n",
    "except PermissionError:\n",
    "\n",
    "    print(f\"Permissão negada para criar o diretório '{output_dir}'. Verifique as permissões do sistema.\")    \n",
    "\n",
    "except Exception as e:\n",
    "\n",
    "    print(f\"Erro ao criar diretório: {e}\")    \n"
   ]
  },
  {
   "cell_type": "markdown",
   "id": "89cdab24",
   "metadata": {},
   "source": [
    "## Definição dos parâmetros e lista de variaveis"
   ]
  },
  {
   "cell_type": "code",
   "execution_count": 251,
   "id": "4eb76540",
   "metadata": {},
   "outputs": [
    {
     "name": "stdout",
     "output_type": "stream",
     "text": [
      "Criando DataFrame com 3000 registros...\n"
     ]
    }
   ],
   "source": [
    "# Definindo o número de registros que o dataset terá\n",
    "# Pode ser ajustado se necessário\n",
    "\n",
    "num_registros = 3000\n",
    "\n",
    "print(f\"Criando DataFrame com {num_registros} registros...\");\n"
   ]
  },
  {
   "cell_type": "code",
   "execution_count": 252,
   "id": "6231439a",
   "metadata": {},
   "outputs": [
    {
     "name": "stdout",
     "output_type": "stream",
     "text": [
      "Produtos, categorias e métodos de pagamento definidos.\n"
     ]
    }
   ],
   "source": [
    "# Definindo listas de produtos, categorias e métodos de pagamento\n",
    "# Esses valores serão usados para popular o DataFrame\n",
    "\n",
    "mapa_produtos = {\n",
    "    \"Ferramentas\": [\n",
    "        \"Martelo\", \"Chave de Fenda\", \"Furadeira\", \"Serrote\", \n",
    "        \"Trena\", \"Alicate\", \"Parafusadeira\", \"Lixadeira\"\n",
    "    ],\n",
    "    \"Elétrica\": [\n",
    "        \"Tomada\", \"Interruptor\", \"Fio Elétrico (100m)\", \"Lâmpada LED\", \n",
    "        \"Disjuntor\", \"Extensão (5m)\", \"Lanterna\", \"Pilha AA\"\n",
    "    ],\n",
    "    \"Hidráulica\": [\n",
    "        \"Torneira\", \"Cano PVC (6m)\", \"Registro de Água\", \"Conexão T\", \n",
    "        \"Caixa de água (500L)\", \"Válvula de Descarga\", \"Mangueira (20m)\", \"Bomba de água\"\n",
    "    ],\n",
    "    \"Tintas e Acabamento\": [\n",
    "        \"Tinta Acrílica (18L)\", \"Tinta Esmalte (3,6L)\", \"Rolo de Pintura\", \n",
    "        \"Lixa (Folha)\", \"Pincel\", \"Massa Corrida (25kg)\", \"Selador (5L)\", \n",
    "        \"Verniz (900ml)\"\n",
    "    ],\n",
    "    \"Construção e Estrutura\": [\n",
    "        \"Cimento (50kg)\", \"Areia (20kg)\", \"Brita (20kg)\", \"Tijolo\", \n",
    "        \"Bloco de Concreto\", \"Argamassa (20kg)\", \"Telha Cerâmica\", \n",
    "        \"Verga Metálica (2m)\"\n",
    "    ],\n",
    "    \"Jardinagem\": [\n",
    "        \"Pá\", \"Enxada\", \"Regador (10L)\", \"Mangueira Jardim (30m)\", \n",
    "        \"Sementes de Grama (1kg)\", \"Tesoura de Poda\", \"Adubo (5kg)\", \"Carrinho de Mão\"\n",
    "    ],\n",
    "    \"Segurança e EPI\": [\n",
    "        \"Capacete\", \"Luva de Proteção\", \"Máscara Respiratória\", \n",
    "        \"Óculos de Proteção\", \"Protetor Auricular\", \"Botina\", \"Colete Reflexivo\"\n",
    "    ]\n",
    "}\n",
    "pagamentos = [\n",
    "    \"Crédito\", \"Débito\", \"Pix\", \"Dinheiro\", \n",
    "    \"Boleto\", \"Transferência Bancária\", \"Carteira Digital\"\n",
    "]\n",
    "\n",
    "print(f\"Produtos, categorias e métodos de pagamento definidos.\");"
   ]
  },
  {
   "cell_type": "code",
   "execution_count": 253,
   "id": "8bc7ec52",
   "metadata": {},
   "outputs": [
    {
     "name": "stdout",
     "output_type": "stream",
     "text": [
      "Preços unitários definidos com sucesso.\n"
     ]
    }
   ],
   "source": [
    "# Definindo preços unitários para cada produto\n",
    "\n",
    "precos_produtos = {\n",
    "    \"Martelo\": 79.90, \"Chave de Fenda\": 24.50, \"Furadeira\": 499.90, \"Serrote\": 64.90,\n",
    "    \"Trena\": 32.00, \"Alicate\": 41.90, \"Parafusadeira\": 429.00, \"Lixadeira\": 389.00,\n",
    "\n",
    "    \"Tomada\": 9.90, \"Interruptor\": 12.90, \"Fio Elétrico (100m)\": 3.50, \"Lâmpada LED\": 14.90,\n",
    "    \"Disjuntor\": 45.00, \"Extensão (5m)\": 39.90, \"Lanterna\": 59.90, \"Pilha AA\": 6.90,\n",
    "    \n",
    "    \"Torneira\": 79.00, \"Cano PVC (6m)\": 29.90, \"Registro de Água\": 54.90, \"Conexão T\": 7.90,\n",
    "    \"Caixa de água (500L)\": 799.00, \"Válvula de Descarga\": 119.00, \"Mangueira (20m)\": 59.00, \"Bomba de água\": 899.00,\n",
    "\n",
    "    \"Tinta Acrílica (18L)\": 249.00, \"Tinta Esmalte (3,6L)\": 229.00, \"Rolo de Pintura\": 24.90,\n",
    "    \"Lixa (Folha)\": 4.90, \"Pincel\": 12.90, \"Massa Corrida (25kg)\": 89.90, \"Selador (5L)\": 99.90, \"Verniz (900ml)\": 139.90,\n",
    "\n",
    "    \"Cimento (50kg)\": 39.90, \"Areia (20kg)\": 14.90, \"Brita (20kg)\": 17.90, \"Tijolo\": 2.00,\n",
    "    \"Bloco de Concreto\": 6.00, \"Argamassa (20kg)\": 24.90, \"Telha Cerâmica\": 7.90, \"Verga Metálica (2m)\": 119.00,\n",
    "\n",
    "    \"Pá\": 74.90, \"Enxada\": 89.90, \"Regador (10L)\": 39.90, \"Mangueira Jardim (30m)\": 69.90,\n",
    "    \"Sementes de Grama (1kg)\": 19.90, \"Tesoura de Poda\": 59.90, \"Adubo (5kg)\": 49.90, \"Carrinho de Mão\": 359.00,\n",
    "\n",
    "    \"Capacete\": 49.90, \"Luva de Proteção\": 19.90, \"Máscara Respiratória\": 29.90,\n",
    "    \"Óculos de Proteção\": 24.90, \"Protetor Auricular\": 9.90, \"Botina\": 149.00, \"Colete Reflexivo\": 39.90\n",
    "}\n",
    "print(\"Preços unitários definidos com sucesso.\")\n"
   ]
  },
  {
   "cell_type": "markdown",
   "id": "d4431286",
   "metadata": {},
   "source": [
    "## 4. Simulação do Dataset"
   ]
  },
  {
   "cell_type": "code",
   "execution_count": 254,
   "id": "3a7b9db1",
   "metadata": {},
   "outputs": [
    {
     "name": "stdout",
     "output_type": "stream",
     "text": [
      "Listas de categorias e produtos criadas com sucesso.\n"
     ]
    }
   ],
   "source": [
    "# Gerando listas de categorias e produtos\n",
    "# Essas listas serão usadas para popular o DataFrame\n",
    "\n",
    "categorias_lista = []\n",
    "produtos_lista = []\n",
    "\n",
    "\n",
    "for _ in range(num_registros):\n",
    "    categoria_escolhida = random.choice(list(mapa_produtos.keys()))\n",
    "    produto_escolhido = random.choice(mapa_produtos[categoria_escolhida])\n",
    "    categorias_lista.append(categoria_escolhida)\n",
    "    produtos_lista.append(produto_escolhido)\n",
    "\n",
    "print(\"Listas de categorias e produtos criadas com sucesso.\")"
   ]
  },
  {
   "cell_type": "code",
   "execution_count": 255,
   "id": "7e408b3f",
   "metadata": {},
   "outputs": [
    {
     "name": "stdout",
     "output_type": "stream",
     "text": [
      "DataFrame criado com sucesso.\n",
      " Colunas de preço unitário calculada e inserida com sucesso! \n"
     ]
    }
   ],
   "source": [
    "# Criando o DataFrame com dados simulados utilizando escolhas aleatórias\n",
    "# Cada coluna é preenchida com os dados em aleatoriedade para simular um cenário real de vendas\n",
    "\n",
    "df = pd.DataFrame({\n",
    "    \"id\": range(1, num_registros + 1),\n",
    "    \"data\": np.random.choice(pd.date_range(\"2023-01-01\", \"2023-12-31\", freq='D'), size=num_registros),\n",
    "    \"produto\": produtos_lista,\n",
    "    \"categoria\": categorias_lista,\n",
    "    \"quantidade\": np.random.randint(1, 501, size=num_registros),\n",
    "    \"pagamento\": np.random.choice(pagamentos, size=num_registros)\n",
    "})\n",
    "print(\"DataFrame criado com sucesso.\");\n",
    "\n",
    "df[\"preco_unitario\"] = df[\"produto\"].map(precos_produtos)\n",
    "\n",
    "print(\" Colunas de preço unitário calculada e inserida com sucesso! \")\n"
   ]
  },
  {
   "cell_type": "markdown",
   "id": "6a88894b",
   "metadata": {},
   "source": [
    "## 5. Criação e Inserção de valores nulos"
   ]
  },
  {
   "cell_type": "code",
   "execution_count": 256,
   "id": "35085f19",
   "metadata": {},
   "outputs": [
    {
     "name": "stdout",
     "output_type": "stream",
     "text": [
      "Inserindo 180 valores NaN aleatórios\n",
      " (1.0% das células, exceto ID)...\n"
     ]
    }
   ],
   "source": [
    "# Gera 1% de valores nulos aleatórios em todas as colunas (exceto na coluna ID)\n",
    "# Isso simula falhas reais de preenchimento em bases de vendas\n",
    "\n",
    "nulos_porcentagem = 0.01\n",
    "cols_sem_id = df.columns[df.columns != \"id\"] \n",
    "num_celulas = df[cols_sem_id].size\n",
    "num_nulos = int(num_celulas * nulos_porcentagem)\n",
    "\n",
    "for _ in range(num_nulos):\n",
    "    i = np.random.randint(0, df.shape[0])\n",
    "    j = np.random.randint(0, len(cols_sem_id))\n",
    "    col = cols_sem_id[j]\n",
    "    df.at[i, col] = np.nan\n",
    "\n",
    "\n",
    "print(f\"Inserindo {num_nulos} valores NaN aleatórios\\n ({nulos_porcentagem*100}% das células, exceto ID)...\");"
   ]
  },
  {
   "cell_type": "markdown",
   "id": "32f0afca",
   "metadata": {},
   "source": [
    "## 6. Gerando e Inserindo registros duplicados"
   ]
  },
  {
   "cell_type": "code",
   "execution_count": 257,
   "id": "6171cba2",
   "metadata": {},
   "outputs": [
    {
     "name": "stdout",
     "output_type": "stream",
     "text": [
      "60 linhas duplicadas inseridas. DataFrame agora tem 3060 linhas.\n"
     ]
    }
   ],
   "source": [
    "# Inserindo 2% de linhas duplicadas no DataFrame\n",
    "# Isso simula falhas reais de preenchimento em bases de vendas\n",
    "\n",
    "\n",
    "num_duplicadas = int(0.02 * len(df))\n",
    "duplicadas = df.sample(n=num_duplicadas, random_state=42)\n",
    "df = pd.concat([df, duplicadas], ignore_index=True)\n",
    "\n",
    "print(f\"{num_duplicadas} linhas duplicadas inseridas. DataFrame agora tem {len(df)} linhas.\");"
   ]
  },
  {
   "cell_type": "markdown",
   "id": "43d1cc40",
   "metadata": {},
   "source": [
    "## 8. Prints para verificação do Dataset criado"
   ]
  },
  {
   "cell_type": "code",
   "execution_count": 258,
   "id": "46588260",
   "metadata": {},
   "outputs": [
    {
     "name": "stdout",
     "output_type": "stream",
     "text": [
      "Total de registros: 3060\n"
     ]
    }
   ],
   "source": [
    "# Mostrando o total de registros no DataFrame final\n",
    "\n",
    "print(f\"Total de registros: {len(df)}\")\n"
   ]
  },
  {
   "cell_type": "code",
   "execution_count": 259,
   "id": "4d525f90",
   "metadata": {},
   "outputs": [
    {
     "name": "stdout",
     "output_type": "stream",
     "text": [
      "Duplicatas: 60\n"
     ]
    }
   ],
   "source": [
    "# Mostrando o total de duplicatas no DataFrame final\n",
    "\n",
    "print(f\"Duplicatas: {df.duplicated().sum()}\")"
   ]
  },
  {
   "cell_type": "code",
   "execution_count": 260,
   "id": "65ea6500",
   "metadata": {},
   "outputs": [
    {
     "name": "stdout",
     "output_type": "stream",
     "text": [
      "Nulos totais: 186\n"
     ]
    }
   ],
   "source": [
    "# Mostrando o total de nulos no DataFrame final\n",
    "\n",
    "print(f\"Nulos totais: {df.isnull().sum().sum()}\")"
   ]
  },
  {
   "cell_type": "code",
   "execution_count": 261,
   "id": "c285524f",
   "metadata": {},
   "outputs": [
    {
     "data": {
      "text/html": [
       "<div>\n",
       "<style scoped>\n",
       "    .dataframe tbody tr th:only-of-type {\n",
       "        vertical-align: middle;\n",
       "    }\n",
       "\n",
       "    .dataframe tbody tr th {\n",
       "        vertical-align: top;\n",
       "    }\n",
       "\n",
       "    .dataframe thead th {\n",
       "        text-align: right;\n",
       "    }\n",
       "</style>\n",
       "<table border=\"1\" class=\"dataframe\">\n",
       "  <thead>\n",
       "    <tr style=\"text-align: right;\">\n",
       "      <th></th>\n",
       "      <th>id</th>\n",
       "      <th>data</th>\n",
       "      <th>produto</th>\n",
       "      <th>categoria</th>\n",
       "      <th>quantidade</th>\n",
       "      <th>pagamento</th>\n",
       "      <th>preco_unitario</th>\n",
       "    </tr>\n",
       "  </thead>\n",
       "  <tbody>\n",
       "    <tr>\n",
       "      <th>0</th>\n",
       "      <td>1</td>\n",
       "      <td>2023-07-09</td>\n",
       "      <td>Parafusadeira</td>\n",
       "      <td>Ferramentas</td>\n",
       "      <td>450.0</td>\n",
       "      <td>Pix</td>\n",
       "      <td>429.0</td>\n",
       "    </tr>\n",
       "    <tr>\n",
       "      <th>1</th>\n",
       "      <td>2</td>\n",
       "      <td>2023-11-22</td>\n",
       "      <td>Serrote</td>\n",
       "      <td>Ferramentas</td>\n",
       "      <td>266.0</td>\n",
       "      <td>Débito</td>\n",
       "      <td>64.9</td>\n",
       "    </tr>\n",
       "    <tr>\n",
       "      <th>2</th>\n",
       "      <td>3</td>\n",
       "      <td>2023-02-10</td>\n",
       "      <td>Regador (10L)</td>\n",
       "      <td>Jardinagem</td>\n",
       "      <td>184.0</td>\n",
       "      <td>Débito</td>\n",
       "      <td>39.9</td>\n",
       "    </tr>\n",
       "    <tr>\n",
       "      <th>3</th>\n",
       "      <td>4</td>\n",
       "      <td>2023-05-27</td>\n",
       "      <td>Cimento (50kg)</td>\n",
       "      <td>Construção e Estrutura</td>\n",
       "      <td>491.0</td>\n",
       "      <td>Pix</td>\n",
       "      <td>39.9</td>\n",
       "    </tr>\n",
       "    <tr>\n",
       "      <th>4</th>\n",
       "      <td>5</td>\n",
       "      <td>2023-07-23</td>\n",
       "      <td>Chave de Fenda</td>\n",
       "      <td>Ferramentas</td>\n",
       "      <td>315.0</td>\n",
       "      <td>Transferência Bancária</td>\n",
       "      <td>24.5</td>\n",
       "    </tr>\n",
       "    <tr>\n",
       "      <th>5</th>\n",
       "      <td>6</td>\n",
       "      <td>2023-12-16</td>\n",
       "      <td>Máscara Respiratória</td>\n",
       "      <td>Segurança e EPI</td>\n",
       "      <td>205.0</td>\n",
       "      <td>Débito</td>\n",
       "      <td>29.9</td>\n",
       "    </tr>\n",
       "    <tr>\n",
       "      <th>6</th>\n",
       "      <td>7</td>\n",
       "      <td>2023-11-13</td>\n",
       "      <td>Pá</td>\n",
       "      <td>Jardinagem</td>\n",
       "      <td>389.0</td>\n",
       "      <td>Dinheiro</td>\n",
       "      <td>74.9</td>\n",
       "    </tr>\n",
       "    <tr>\n",
       "      <th>7</th>\n",
       "      <td>8</td>\n",
       "      <td>2023-08-24</td>\n",
       "      <td>Capacete</td>\n",
       "      <td>Segurança e EPI</td>\n",
       "      <td>456.0</td>\n",
       "      <td>Dinheiro</td>\n",
       "      <td>49.9</td>\n",
       "    </tr>\n",
       "    <tr>\n",
       "      <th>8</th>\n",
       "      <td>9</td>\n",
       "      <td>2023-05-11</td>\n",
       "      <td>Disjuntor</td>\n",
       "      <td>Elétrica</td>\n",
       "      <td>418.0</td>\n",
       "      <td>Carteira Digital</td>\n",
       "      <td>45.0</td>\n",
       "    </tr>\n",
       "    <tr>\n",
       "      <th>9</th>\n",
       "      <td>10</td>\n",
       "      <td>2023-03-14</td>\n",
       "      <td>Argamassa (20kg)</td>\n",
       "      <td>Construção e Estrutura</td>\n",
       "      <td>179.0</td>\n",
       "      <td>Transferência Bancária</td>\n",
       "      <td>24.9</td>\n",
       "    </tr>\n",
       "  </tbody>\n",
       "</table>\n",
       "</div>"
      ],
      "text/plain": [
       "   id       data               produto               categoria  quantidade  \\\n",
       "0   1 2023-07-09         Parafusadeira             Ferramentas       450.0   \n",
       "1   2 2023-11-22               Serrote             Ferramentas       266.0   \n",
       "2   3 2023-02-10         Regador (10L)              Jardinagem       184.0   \n",
       "3   4 2023-05-27        Cimento (50kg)  Construção e Estrutura       491.0   \n",
       "4   5 2023-07-23        Chave de Fenda             Ferramentas       315.0   \n",
       "5   6 2023-12-16  Máscara Respiratória         Segurança e EPI       205.0   \n",
       "6   7 2023-11-13                    Pá              Jardinagem       389.0   \n",
       "7   8 2023-08-24              Capacete         Segurança e EPI       456.0   \n",
       "8   9 2023-05-11             Disjuntor                Elétrica       418.0   \n",
       "9  10 2023-03-14      Argamassa (20kg)  Construção e Estrutura       179.0   \n",
       "\n",
       "                pagamento  preco_unitario  \n",
       "0                     Pix           429.0  \n",
       "1                  Débito            64.9  \n",
       "2                  Débito            39.9  \n",
       "3                     Pix            39.9  \n",
       "4  Transferência Bancária            24.5  \n",
       "5                  Débito            29.9  \n",
       "6                Dinheiro            74.9  \n",
       "7                Dinheiro            49.9  \n",
       "8        Carteira Digital            45.0  \n",
       "9  Transferência Bancária            24.9  "
      ]
     },
     "execution_count": 261,
     "metadata": {},
     "output_type": "execute_result"
    }
   ],
   "source": [
    "# Verificando as primeiras 10 linhas do DataFrame final\n",
    "# Isso ajuda a ter uma visão rápida dos dados gerados\n",
    "\n",
    "df.head(10)"
   ]
  },
  {
   "cell_type": "code",
   "execution_count": 262,
   "id": "6bcf374a",
   "metadata": {},
   "outputs": [
    {
     "name": "stdout",
     "output_type": "stream",
     "text": [
      "\n",
      "Resumo por coluna:\n",
      "<class 'pandas.core.frame.DataFrame'>\n",
      "RangeIndex: 3060 entries, 0 to 3059\n",
      "Data columns (total 7 columns):\n",
      " #   Column          Non-Null Count  Dtype         \n",
      "---  ------          --------------  -----         \n",
      " 0   id              3060 non-null   int64         \n",
      " 1   data            3024 non-null   datetime64[ns]\n",
      " 2   produto         3030 non-null   object        \n",
      " 3   categoria       3017 non-null   object        \n",
      " 4   quantidade      3030 non-null   float64       \n",
      " 5   pagamento       3036 non-null   object        \n",
      " 6   preco_unitario  3037 non-null   float64       \n",
      "dtypes: datetime64[ns](1), float64(2), int64(1), object(3)\n",
      "memory usage: 167.5+ KB\n",
      "None\n"
     ]
    }
   ],
   "source": [
    "# Mostrando um resumo por coluna do DataFrame final\n",
    "# Ajuda a entender superficialmente tipos de dados e nulos por coluna\n",
    "\n",
    "print(\"\\nResumo por coluna:\")\n",
    "print(df.info())"
   ]
  },
  {
   "cell_type": "markdown",
   "id": "5182fda1",
   "metadata": {},
   "source": [
    "## 7. Salvando o Dataset "
   ]
  },
  {
   "cell_type": "code",
   "execution_count": 263,
   "id": "035c550e",
   "metadata": {},
   "outputs": [
    {
     "name": "stdout",
     "output_type": "stream",
     "text": [
      "DataFrame salvo em 'Dataframes\\vendas_raw.csv'.\n"
     ]
    }
   ],
   "source": [
    "# Salvando o DataFrame em um arquivo CSV no diretório criado\n",
    "# os.path.join monta o caminho correto para o arquivo (ajuda em compatibilidade entre sistemas)\n",
    "\n",
    "try:\n",
    "\n",
    "    output_path = os.path.join(output_dir, \"vendas_raw.csv\")\n",
    "    df.to_csv(output_path, index=False)\n",
    "\n",
    "    print(f\"DataFrame salvo em '{output_path}'.\")\n",
    "\n",
    "except PermissionError:\n",
    "\n",
    "    print(f\" Erro de Permissão: Não foi possível escrever no diretório '{output_dir}'. Verifique as permissões.\")    \n",
    "\n",
    "except Exception as e:\n",
    "    print(f\" Ocorreu um erro inesperado ao salvar o arquivo: {e}\")"
   ]
  }
 ],
 "metadata": {
  "kernelspec": {
   "display_name": "Python 3",
   "language": "python",
   "name": "python3"
  },
  "language_info": {
   "codemirror_mode": {
    "name": "ipython",
    "version": 3
   },
   "file_extension": ".py",
   "mimetype": "text/x-python",
   "name": "python",
   "nbconvert_exporter": "python",
   "pygments_lexer": "ipython3",
   "version": "3.13.5"
  }
 },
 "nbformat": 4,
 "nbformat_minor": 5
}
