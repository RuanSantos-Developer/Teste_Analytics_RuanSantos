{
 "cells": [
  {
   "cell_type": "code",
   "execution_count": null,
   "id": "7306910a",
   "metadata": {},
   "outputs": [],
   "source": [
    "'''\n",
    "O que faz e Por que usar\n",
    "\n",
    "pandas as pd: biblioteca principal para manipulação tabular (DataFrame).\n",
    "\n",
    "numpy as np: funções numéricas e gerador aleatório vetorizado (mais rápido que random para arrays).\n",
    "\n",
    "datetime, timedelta: classes do Python para trabalhar com datas (não são estritamente necessárias aqui porque usamos pd.date_range, mas é comum importar quando se manipula datas manualmente).\n",
    "\n",
    "random: módulo padrão do Python — nem sempre usado, mas muitas vezes incluído para gerar aleatoriedade com random.seed() ou funções não-vetorizadas.\n",
    "\n",
    "os: manipulação do sistema de arquivos (criar pastas, juntar caminhos).\n",
    "'''\n",
    "\n",
    "import pandas as pd\n",
    "import numpy as np\n",
    "import random\n",
    "from datetime import datetime, timedelta\n",
    "import os"
   ]
  },
  {
   "cell_type": "code",
   "execution_count": null,
   "id": "c474a610",
   "metadata": {},
   "outputs": [],
   "source": [
    "'''\n",
    "Seta as seeds (sementes) dos geradores aleatórios para reprodutibilidade:\n",
    "\n",
    "np.random.seed(42) assegura que todas as chamadas de np.random.* gerem a mesma sequência toda vez que o script for executado.\n",
    "\n",
    "random.seed(42) faz o mesmo para o gerador do módulo random.\n",
    "\n",
    "Por que ambos? Porque o código usa (ou poderia usar) tanto numpy.random quanto random. Para reproduzir resultados previsíveis, se considera uma boa prática setar ambas.\n",
    "'''\n",
    "\n",
    "np.random.seed(46)\n",
    "random.seed(46)"
   ]
  },
  {
   "cell_type": "code",
   "execution_count": null,
   "id": "ca68bced",
   "metadata": {},
   "outputs": [],
   "source": [
    "'''Define output_dir como a pasta onde o CSV será salvo (datasets).\n",
    "\n",
    "os.makedirs(output_dir, exist_ok=True) cria a pasta necessária. Se já existir, não lança erro (exist_ok=True).\n",
    "\n",
    "Garante que df.to_csv(...) não falhe por pasta inexistente.\n",
    "'''\n",
    "\n",
    "output_dir = \"datasets\"\n",
    "os.makedirs(output_dir, exist_ok=True)"
   ]
  },
  {
   "cell_type": "code",
   "execution_count": null,
   "id": "4eb76540",
   "metadata": {},
   "outputs": [],
   "source": [
    "\n",
    "'''Define quantos registros (linhas) o DataFrame terá inicialmente.'''\n",
    "\n",
    "num_registros = 3000"
   ]
  },
  {
   "cell_type": "code",
   "execution_count": null,
   "id": "40f3f895",
   "metadata": {},
   "outputs": [],
   "source": [
    "'''Gera uma sequência diária de datas entre 01/01/2023 e 31/12/2023 (inclusive).\n",
    "\n",
    "datas é um DatetimeIndex com todos os dias do ano (365 entradas).'''\n",
    "\n",
    "datas = pd.date_range(start=\"2023-01-01\", end=\"2023-12-31\", freq=\"D\")"
   ]
  },
  {
   "cell_type": "code",
   "execution_count": null,
   "id": "6231439a",
   "metadata": {},
   "outputs": [],
   "source": [
    "'''Listas de valores possíveis para as colunas categóricas — usadas para amostragem aleatória.'''\n",
    "\n",
    "\n",
    "produtos = [\"Notebook\", \"Smartphone\", \"Mouse\", \"Teclado\", \"Monitor\", \"Fone de Ouvido\", \"Impressora\", \"Cadeira Gamer\"]\n",
    "categorias = [\"Informática\", \"Acessórios\", \"Periféricos\", \"Móveis de Escritório\"]\n",
    "pagamentos = [\"Crédito\", \"Débito\", \"Pix\", \"Dinheiro\", \"Boleto\"]"
   ]
  },
  {
   "cell_type": "code",
   "execution_count": null,
   "id": "7e408b3f",
   "metadata": {},
   "outputs": [],
   "source": [
    "'''\"ID\": range(1, num_registros + 1) → cria IDs sequenciais (1..1000).\n",
    "\n",
    "\"Data\": np.random.choice(datas, size=num_registros) → escolhe aleatoriamente uma data (do DatetimeIndex) para cada linha. Resultado: coluna de tipo datetime (na maioria dos casos ficará como datetime64[ns] até que se insiram NaN).\n",
    "\n",
    "\"Produto\", \"Categoria\", \"Pagamento\" usam np.random.choice para escolher categorias aleatórias.\n",
    "\n",
    "\"Quantidade\": np.random.randint(1, 10, size=num_registros) → inteiros aleatórios entre 1 e 9 (inclusive o 1, exclusivo 10).\n",
    "\n",
    "\"Preço\": np.round(np.random.uniform(50, 5000, size=num_registros), 2) → preços float entre 50 e 5000, arredondados para 2 casas (simula ticket/valor unitário).\n",
    "Observações de tipo:\n",
    "\n",
    "Antes de inserir NaN, ID é int, Quantidade int, Preço float, Data datetime, outras object (strings).'''\n",
    "\n",
    "\n",
    "df = pd.DataFrame({\n",
    "    \"ID\": range(1, num_registros + 1),\n",
    "    \"Data\": np.random.choice(datas, size=num_registros),\n",
    "    \"Produto\": np.random.choice(produtos, size=num_registros),\n",
    "    \"Categoria\": np.random.choice(categorias, size=num_registros),\n",
    "    \"Quantidade\": np.random.randint(1, 10, size=num_registros),\n",
    "    \"Preço\": np.round(np.random.uniform(50, 5000, size=num_registros), 2),\n",
    "    \"Pagamento\": np.random.choice(pagamentos, size=num_registros)\n",
    "})\n"
   ]
  },
  {
   "cell_type": "code",
   "execution_count": null,
   "id": "35085f19",
   "metadata": {},
   "outputs": [],
   "source": [
    "'''df.size = número total de células do DataFrame = n_linhas * n_colunas (1000 * 7 = 7000).\n",
    "\n",
    "n_nulos = 5% de 7000 = 350 (no exemplo com 1000 linhas). Ou seja, serão transformadas em NaN 350 células aleatória'''\n",
    "\n",
    "\n",
    "nulos_porcentagem = 0.05\n",
    "n_celulas = df.size\n",
    "n_nulos = int(n_celulas * nulos_porcentagem)"
   ]
  },
  {
   "cell_type": "code",
   "execution_count": null,
   "id": "594baa1e",
   "metadata": {},
   "outputs": [],
   "source": [
    "'''Para cada uma das 350 iterações:\n",
    "\n",
    "i é um índice de linha aleatório (0..999).\n",
    "\n",
    "j é um índice de coluna aleatório (0..6).\n",
    "\n",
    "df.iat[i, j] = np.nan escreve NaN naquela célula (indexação por posição inteira — muito rápida para leituras/escritas escalares).\n",
    "Efeitos importantes\n",
    "\n",
    "Pode atingir qualquer coluna, inclusive ID ou Data. Se NaN for inserido numa coluna de inteiros (ID ou Quantidade), o pandas converte automaticamente essa coluna para float (porque NaN é um float especial em pandas). Isso é esperado e um ponto essencial a se lembrar quando tratar tipos depois.\n",
    "\n",
    "Inserir NaN na coluna Data fará com que ela deixe de ser datetime64 e passe a ter tipo object ou float (dependendo de quantos NaN), exigindo pd.to_datetime() depois para reconverter.\n",
    "\n",
    "df.iat usa posições inteiras: é diferente de .loc (rótulo) e .iloc (posição por fatia). .iat é o mais rápido para acessar um único elemento.\n",
    "\n",
    "Observação de performance\n",
    "\n",
    "Para 1000 linhas, este loop é OK. Para milhões de linhas, é preferível usar estratégias vetorizadas (por ex. amostrar pares (row,col) sem loop).'''\n",
    "\n",
    "for _ in range(n_nulos):\n",
    "    i = np.random.randint(0, df.shape[0])\n",
    "    j = np.random.randint(0, df.shape[1])\n",
    "    df.iat[i, j] = np.nan"
   ]
  },
  {
   "cell_type": "code",
   "execution_count": null,
   "id": "6171cba2",
   "metadata": {},
   "outputs": [],
   "source": [
    "'''n_duplicatas = 3% de 1000 = 30 (aprox.).\n",
    "\n",
    "df.sample(...) seleciona aleatoriamente 30 linhas do DataFrame atual (note que isto é feito após inserir os NaN, então as linhas amostradas podem incluir NaN nas mesmas posições).\n",
    "\n",
    "pd.concat([df, duplicatas], ignore_index=True) concatena o DataFrame original com as linhas amostradas. ignore_index=True reindexa o DataFrame concatenado com novos índices 0..N-1.\n",
    "Por que isso mantém o mesmo ID\n",
    "\n",
    "duplicatas é uma cópia exata das linhas selecionadas — incluindo o valor de ID. Ao concatenar, essas linhas duplicadas carregam o mesmo valor de ID da linha original. Ou seja, você terá IDs repetidos — exatamente o que você pediu para simular duplicação de dados de sistema.\n",
    "Observações\n",
    "\n",
    "df.duplicated() (sem argumentos) vai contar linhas iguais em todas as colunas. Como as linhas duplicadas são cópias exatas, elas serão detectadas como duplicatas.\n",
    "\n",
    "Atenção: se você tivesse reatribuído IDs depois (como em uma versão anterior do script), as duplicatas não seriam reconhecidas por df.duplicated() porque o ID na linha duplicada seria diferente. Aqui, mantemos IDs iguais de propósito.'''\n",
    "\n",
    "n_duplicatas = int(0.03 * len(df))\n",
    "duplicatas = df.sample(n=n_duplicatas, random_state=42)\n",
    "df = pd.concat([df, duplicatas], ignore_index=True)\n"
   ]
  },
  {
   "cell_type": "code",
   "execution_count": null,
   "id": "035c550e",
   "metadata": {},
   "outputs": [],
   "source": [
    "'''os.path.join monta o caminho correto para o arquivo (ajuda em compatibilidade entre sistemas).\n",
    "\n",
    "df.to_csv(..., index=False) salva o DataFrame em CSV sem a coluna de índice do pandas (apenas as colunas reais).'''\n",
    "\n",
    "output_path = os.path.join(output_dir, \"vendas_raw.csv\")\n",
    "df.to_csv(output_path, index=False)"
   ]
  },
  {
   "cell_type": "code",
   "execution_count": null,
   "id": "137219cd",
   "metadata": {},
   "outputs": [
    {
     "name": "stdout",
     "output_type": "stream",
     "text": [
      "✅ Dataset gerado com sucesso: datasets\\vendas_raw.csv\n"
     ]
    }
   ],
   "source": [
    "'''Print verificando se o dataset foi gravado com sucesso e o seu caminho'''\n",
    "\n",
    "print(f\"✅ Dataset gerado com sucesso: {output_path}\")"
   ]
  },
  {
   "cell_type": "code",
   "execution_count": null,
   "id": "46588260",
   "metadata": {},
   "outputs": [
    {
     "name": "stdout",
     "output_type": "stream",
     "text": [
      "Total de registros: 3090\n"
     ]
    }
   ],
   "source": [
    "'''Print para ver o total de registros do dataset gerado'''\n",
    "\n",
    "print(f\"Total de registros: {len(df)}\")\n"
   ]
  },
  {
   "cell_type": "code",
   "execution_count": null,
   "id": "4d525f90",
   "metadata": {},
   "outputs": [
    {
     "name": "stdout",
     "output_type": "stream",
     "text": [
      "Duplicatas reais: 90\n"
     ]
    }
   ],
   "source": [
    "'''Print para ver quantos valores Duplicados foram inseridos'''\n",
    "\n",
    "print(f\"Duplicatas reais: {df.duplicated().sum()}\")"
   ]
  },
  {
   "cell_type": "code",
   "execution_count": null,
   "id": "65ea6500",
   "metadata": {},
   "outputs": [
    {
     "name": "stdout",
     "output_type": "stream",
     "text": [
      "Nulos totais: 1058\n"
     ]
    }
   ],
   "source": [
    "'''Print para ver o total de valores Nulos inseridos'''\n",
    "\n",
    "print(f\"Nulos totais: {df.isnull().sum().sum()}\")"
   ]
  },
  {
   "cell_type": "code",
   "execution_count": null,
   "id": "6bcf374a",
   "metadata": {},
   "outputs": [
    {
     "name": "stdout",
     "output_type": "stream",
     "text": [
      "\n",
      "Resumo por coluna:\n",
      "<class 'pandas.core.frame.DataFrame'>\n",
      "RangeIndex: 3090 entries, 0 to 3089\n",
      "Data columns (total 7 columns):\n",
      " #   Column      Non-Null Count  Dtype         \n",
      "---  ------      --------------  -----         \n",
      " 0   ID          2934 non-null   float64       \n",
      " 1   Data        2933 non-null   datetime64[ns]\n",
      " 2   Produto     2914 non-null   object        \n",
      " 3   Categoria   2954 non-null   object        \n",
      " 4   Quantidade  2940 non-null   float64       \n",
      " 5   Preço       2952 non-null   float64       \n",
      " 6   Pagamento   2945 non-null   object        \n",
      "dtypes: datetime64[ns](1), float64(3), object(3)\n",
      "memory usage: 169.1+ KB\n",
      "None\n"
     ]
    }
   ],
   "source": [
    "'''Print para ver o resumo do DataFrame (tipos e nulos por coluna)'''\n",
    "\n",
    "print(\"\\nResumo por coluna:\")\n",
    "print(df.info())"
   ]
  }
 ],
 "metadata": {
  "kernelspec": {
   "display_name": "Python 3",
   "language": "python",
   "name": "python3"
  },
  "language_info": {
   "codemirror_mode": {
    "name": "ipython",
    "version": 3
   },
   "file_extension": ".py",
   "mimetype": "text/x-python",
   "name": "python",
   "nbconvert_exporter": "python",
   "pygments_lexer": "ipython3",
   "version": "3.13.5"
  }
 },
 "nbformat": 4,
 "nbformat_minor": 5
}
