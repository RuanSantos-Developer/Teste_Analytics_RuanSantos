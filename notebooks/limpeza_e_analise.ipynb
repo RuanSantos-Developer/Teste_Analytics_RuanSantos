{
 "cells": [
  {
   "cell_type": "markdown",
   "id": "335346df",
   "metadata": {},
   "source": [
    "# Tratamento e analise dos dados"
   ]
  },
  {
   "cell_type": "markdown",
   "id": "453adea9",
   "metadata": {},
   "source": [
    "## 1. Importações das bibliotecas"
   ]
  },
  {
   "cell_type": "code",
   "execution_count": 62,
   "id": "187265c7",
   "metadata": {},
   "outputs": [],
   "source": [
    "import pandas as pd\n",
    "import numpy as np\n",
    "import matplotlib.pyplot as plt\n",
    "import seaborn as sns\n",
    "import os"
   ]
  },
  {
   "cell_type": "markdown",
   "id": "b90727fb",
   "metadata": {},
   "source": [
    "## Visualizando e analisando o Dataframe"
   ]
  },
  {
   "cell_type": "code",
   "execution_count": 63,
   "id": "15b2599f",
   "metadata": {},
   "outputs": [],
   "source": [
    "df = pd.read_csv(\"./Dataframes/vendas_raw.csv\" , sep=\",\", encoding=\"utf-8\")"
   ]
  },
  {
   "cell_type": "code",
   "execution_count": 64,
   "id": "9980dd39",
   "metadata": {},
   "outputs": [
    {
     "data": {
      "text/html": [
       "<div>\n",
       "<style scoped>\n",
       "    .dataframe tbody tr th:only-of-type {\n",
       "        vertical-align: middle;\n",
       "    }\n",
       "\n",
       "    .dataframe tbody tr th {\n",
       "        vertical-align: top;\n",
       "    }\n",
       "\n",
       "    .dataframe thead th {\n",
       "        text-align: right;\n",
       "    }\n",
       "</style>\n",
       "<table border=\"1\" class=\"dataframe\">\n",
       "  <thead>\n",
       "    <tr style=\"text-align: right;\">\n",
       "      <th></th>\n",
       "      <th>ID</th>\n",
       "      <th>Data</th>\n",
       "      <th>Produto</th>\n",
       "      <th>Categoria</th>\n",
       "      <th>Quantidade</th>\n",
       "      <th>Preço</th>\n",
       "      <th>Pagamento</th>\n",
       "    </tr>\n",
       "  </thead>\n",
       "  <tbody>\n",
       "    <tr>\n",
       "      <th>0</th>\n",
       "      <td>1</td>\n",
       "      <td>2023-07-09</td>\n",
       "      <td>Parafusadeira</td>\n",
       "      <td>Ferramentas</td>\n",
       "      <td>66.0</td>\n",
       "      <td>4763.78</td>\n",
       "      <td>Carteira Digital</td>\n",
       "    </tr>\n",
       "    <tr>\n",
       "      <th>1</th>\n",
       "      <td>2</td>\n",
       "      <td>2023-11-22</td>\n",
       "      <td>Serrote</td>\n",
       "      <td>Ferramentas</td>\n",
       "      <td>10.0</td>\n",
       "      <td>NaN</td>\n",
       "      <td>Pix</td>\n",
       "    </tr>\n",
       "    <tr>\n",
       "      <th>2</th>\n",
       "      <td>3</td>\n",
       "      <td>2023-02-10</td>\n",
       "      <td>Regador</td>\n",
       "      <td>Jardinagem</td>\n",
       "      <td>56.0</td>\n",
       "      <td>3572.49</td>\n",
       "      <td>Pix</td>\n",
       "    </tr>\n",
       "    <tr>\n",
       "      <th>3</th>\n",
       "      <td>4</td>\n",
       "      <td>2023-05-27</td>\n",
       "      <td>Cimento</td>\n",
       "      <td>Construção e Estrutura</td>\n",
       "      <td>59.0</td>\n",
       "      <td>1037.29</td>\n",
       "      <td>Pix</td>\n",
       "    </tr>\n",
       "    <tr>\n",
       "      <th>4</th>\n",
       "      <td>5</td>\n",
       "      <td>2023-07-23</td>\n",
       "      <td>Chave de Fenda</td>\n",
       "      <td>Ferramentas</td>\n",
       "      <td>77.0</td>\n",
       "      <td>2157.34</td>\n",
       "      <td>Dinheiro</td>\n",
       "    </tr>\n",
       "    <tr>\n",
       "      <th>5</th>\n",
       "      <td>6</td>\n",
       "      <td>2023-12-16</td>\n",
       "      <td>Máscara Respiratória</td>\n",
       "      <td>Segurança e EPI</td>\n",
       "      <td>5.0</td>\n",
       "      <td>1584.25</td>\n",
       "      <td>Crédito</td>\n",
       "    </tr>\n",
       "    <tr>\n",
       "      <th>6</th>\n",
       "      <td>7</td>\n",
       "      <td>2023-11-13</td>\n",
       "      <td>Pá</td>\n",
       "      <td>Jardinagem</td>\n",
       "      <td>72.0</td>\n",
       "      <td>2243.43</td>\n",
       "      <td>Boleto</td>\n",
       "    </tr>\n",
       "    <tr>\n",
       "      <th>7</th>\n",
       "      <td>8</td>\n",
       "      <td>2023-08-24</td>\n",
       "      <td>Capacete</td>\n",
       "      <td>Segurança e EPI</td>\n",
       "      <td>34.0</td>\n",
       "      <td>2752.94</td>\n",
       "      <td>Pix</td>\n",
       "    </tr>\n",
       "    <tr>\n",
       "      <th>8</th>\n",
       "      <td>9</td>\n",
       "      <td>2023-05-11</td>\n",
       "      <td>Disjuntor</td>\n",
       "      <td>Elétrica</td>\n",
       "      <td>51.0</td>\n",
       "      <td>876.90</td>\n",
       "      <td>Crédito</td>\n",
       "    </tr>\n",
       "    <tr>\n",
       "      <th>9</th>\n",
       "      <td>10</td>\n",
       "      <td>2023-03-14</td>\n",
       "      <td>Argamassa</td>\n",
       "      <td>Construção e Estrutura</td>\n",
       "      <td>50.0</td>\n",
       "      <td>1043.67</td>\n",
       "      <td>Crédito</td>\n",
       "    </tr>\n",
       "  </tbody>\n",
       "</table>\n",
       "</div>"
      ],
      "text/plain": [
       "   ID        Data               Produto               Categoria  Quantidade  \\\n",
       "0   1  2023-07-09         Parafusadeira             Ferramentas        66.0   \n",
       "1   2  2023-11-22               Serrote             Ferramentas        10.0   \n",
       "2   3  2023-02-10               Regador              Jardinagem        56.0   \n",
       "3   4  2023-05-27               Cimento  Construção e Estrutura        59.0   \n",
       "4   5  2023-07-23        Chave de Fenda             Ferramentas        77.0   \n",
       "5   6  2023-12-16  Máscara Respiratória         Segurança e EPI         5.0   \n",
       "6   7  2023-11-13                    Pá              Jardinagem        72.0   \n",
       "7   8  2023-08-24              Capacete         Segurança e EPI        34.0   \n",
       "8   9  2023-05-11             Disjuntor                Elétrica        51.0   \n",
       "9  10  2023-03-14             Argamassa  Construção e Estrutura        50.0   \n",
       "\n",
       "     Preço         Pagamento  \n",
       "0  4763.78  Carteira Digital  \n",
       "1      NaN               Pix  \n",
       "2  3572.49               Pix  \n",
       "3  1037.29               Pix  \n",
       "4  2157.34          Dinheiro  \n",
       "5  1584.25           Crédito  \n",
       "6  2243.43            Boleto  \n",
       "7  2752.94               Pix  \n",
       "8   876.90           Crédito  \n",
       "9  1043.67           Crédito  "
      ]
     },
     "execution_count": 64,
     "metadata": {},
     "output_type": "execute_result"
    }
   ],
   "source": [
    "df.head(10)"
   ]
  },
  {
   "cell_type": "code",
   "execution_count": 65,
   "id": "389f8f8d",
   "metadata": {},
   "outputs": [
    {
     "data": {
      "text/html": [
       "<div>\n",
       "<style scoped>\n",
       "    .dataframe tbody tr th:only-of-type {\n",
       "        vertical-align: middle;\n",
       "    }\n",
       "\n",
       "    .dataframe tbody tr th {\n",
       "        vertical-align: top;\n",
       "    }\n",
       "\n",
       "    .dataframe thead th {\n",
       "        text-align: right;\n",
       "    }\n",
       "</style>\n",
       "<table border=\"1\" class=\"dataframe\">\n",
       "  <thead>\n",
       "    <tr style=\"text-align: right;\">\n",
       "      <th></th>\n",
       "      <th>ID</th>\n",
       "      <th>Data</th>\n",
       "      <th>Produto</th>\n",
       "      <th>Categoria</th>\n",
       "      <th>Quantidade</th>\n",
       "      <th>Preço</th>\n",
       "      <th>Pagamento</th>\n",
       "    </tr>\n",
       "  </thead>\n",
       "  <tbody>\n",
       "    <tr>\n",
       "      <th>3080</th>\n",
       "      <td>1843</td>\n",
       "      <td>2023-12-05</td>\n",
       "      <td>Sementes de Grama</td>\n",
       "      <td>Jardinagem</td>\n",
       "      <td>51.0</td>\n",
       "      <td>4126.61</td>\n",
       "      <td>Transferência Bancária</td>\n",
       "    </tr>\n",
       "    <tr>\n",
       "      <th>3081</th>\n",
       "      <td>1831</td>\n",
       "      <td>2023-01-27</td>\n",
       "      <td>Alicate</td>\n",
       "      <td>Ferramentas</td>\n",
       "      <td>81.0</td>\n",
       "      <td>2916.26</td>\n",
       "      <td>Dinheiro</td>\n",
       "    </tr>\n",
       "    <tr>\n",
       "      <th>3082</th>\n",
       "      <td>795</td>\n",
       "      <td>2023-11-16</td>\n",
       "      <td>Lâmpada LED</td>\n",
       "      <td>Elétrica</td>\n",
       "      <td>58.0</td>\n",
       "      <td>3073.08</td>\n",
       "      <td>Débito</td>\n",
       "    </tr>\n",
       "    <tr>\n",
       "      <th>3083</th>\n",
       "      <td>1821</td>\n",
       "      <td>2023-07-01</td>\n",
       "      <td>Adubo</td>\n",
       "      <td>Jardinagem</td>\n",
       "      <td>55.0</td>\n",
       "      <td>1231.04</td>\n",
       "      <td>Carteira Digital</td>\n",
       "    </tr>\n",
       "    <tr>\n",
       "      <th>3084</th>\n",
       "      <td>2002</td>\n",
       "      <td>2023-03-29</td>\n",
       "      <td>Areia</td>\n",
       "      <td>Construção e Estrutura</td>\n",
       "      <td>92.0</td>\n",
       "      <td>NaN</td>\n",
       "      <td>Dinheiro</td>\n",
       "    </tr>\n",
       "    <tr>\n",
       "      <th>3085</th>\n",
       "      <td>145</td>\n",
       "      <td>2023-01-22</td>\n",
       "      <td>Rolo de Pintura</td>\n",
       "      <td>Tintas e Acabamento</td>\n",
       "      <td>47.0</td>\n",
       "      <td>2307.31</td>\n",
       "      <td>Crédito</td>\n",
       "    </tr>\n",
       "    <tr>\n",
       "      <th>3086</th>\n",
       "      <td>2526</td>\n",
       "      <td>2023-08-29</td>\n",
       "      <td>Caixa de água</td>\n",
       "      <td>NaN</td>\n",
       "      <td>12.0</td>\n",
       "      <td>1901.79</td>\n",
       "      <td>Pix</td>\n",
       "    </tr>\n",
       "    <tr>\n",
       "      <th>3087</th>\n",
       "      <td>1331</td>\n",
       "      <td>2023-09-09</td>\n",
       "      <td>Furadeira</td>\n",
       "      <td>Ferramentas</td>\n",
       "      <td>89.0</td>\n",
       "      <td>3897.37</td>\n",
       "      <td>Dinheiro</td>\n",
       "    </tr>\n",
       "    <tr>\n",
       "      <th>3088</th>\n",
       "      <td>2478</td>\n",
       "      <td>2023-08-23</td>\n",
       "      <td>Colete Reflexivo</td>\n",
       "      <td>Segurança e EPI</td>\n",
       "      <td>77.0</td>\n",
       "      <td>2524.86</td>\n",
       "      <td>Dinheiro</td>\n",
       "    </tr>\n",
       "    <tr>\n",
       "      <th>3089</th>\n",
       "      <td>2882</td>\n",
       "      <td>2023-05-05</td>\n",
       "      <td>Registro de Água</td>\n",
       "      <td>Hidráulica</td>\n",
       "      <td>NaN</td>\n",
       "      <td>3462.50</td>\n",
       "      <td>Crédito</td>\n",
       "    </tr>\n",
       "  </tbody>\n",
       "</table>\n",
       "</div>"
      ],
      "text/plain": [
       "        ID        Data            Produto               Categoria  Quantidade  \\\n",
       "3080  1843  2023-12-05  Sementes de Grama              Jardinagem        51.0   \n",
       "3081  1831  2023-01-27            Alicate             Ferramentas        81.0   \n",
       "3082   795  2023-11-16        Lâmpada LED                Elétrica        58.0   \n",
       "3083  1821  2023-07-01              Adubo              Jardinagem        55.0   \n",
       "3084  2002  2023-03-29              Areia  Construção e Estrutura        92.0   \n",
       "3085   145  2023-01-22    Rolo de Pintura     Tintas e Acabamento        47.0   \n",
       "3086  2526  2023-08-29      Caixa de água                     NaN        12.0   \n",
       "3087  1331  2023-09-09          Furadeira             Ferramentas        89.0   \n",
       "3088  2478  2023-08-23   Colete Reflexivo         Segurança e EPI        77.0   \n",
       "3089  2882  2023-05-05   Registro de Água              Hidráulica         NaN   \n",
       "\n",
       "        Preço               Pagamento  \n",
       "3080  4126.61  Transferência Bancária  \n",
       "3081  2916.26                Dinheiro  \n",
       "3082  3073.08                  Débito  \n",
       "3083  1231.04        Carteira Digital  \n",
       "3084      NaN                Dinheiro  \n",
       "3085  2307.31                 Crédito  \n",
       "3086  1901.79                     Pix  \n",
       "3087  3897.37                Dinheiro  \n",
       "3088  2524.86                Dinheiro  \n",
       "3089  3462.50                 Crédito  "
      ]
     },
     "execution_count": 65,
     "metadata": {},
     "output_type": "execute_result"
    }
   ],
   "source": [
    "df.tail(10)"
   ]
  },
  {
   "cell_type": "code",
   "execution_count": 49,
   "id": "c820ecfe",
   "metadata": {},
   "outputs": [
    {
     "data": {
      "text/html": [
       "<div>\n",
       "<style scoped>\n",
       "    .dataframe tbody tr th:only-of-type {\n",
       "        vertical-align: middle;\n",
       "    }\n",
       "\n",
       "    .dataframe tbody tr th {\n",
       "        vertical-align: top;\n",
       "    }\n",
       "\n",
       "    .dataframe thead th {\n",
       "        text-align: right;\n",
       "    }\n",
       "</style>\n",
       "<table border=\"1\" class=\"dataframe\">\n",
       "  <thead>\n",
       "    <tr style=\"text-align: right;\">\n",
       "      <th></th>\n",
       "      <th>ID</th>\n",
       "      <th>Quantidade</th>\n",
       "      <th>Preço</th>\n",
       "    </tr>\n",
       "  </thead>\n",
       "  <tbody>\n",
       "    <tr>\n",
       "      <th>count</th>\n",
       "      <td>3090.000000</td>\n",
       "      <td>2939.000000</td>\n",
       "      <td>2932.000000</td>\n",
       "    </tr>\n",
       "    <tr>\n",
       "      <th>mean</th>\n",
       "      <td>1497.725890</td>\n",
       "      <td>50.455597</td>\n",
       "      <td>2511.913128</td>\n",
       "    </tr>\n",
       "    <tr>\n",
       "      <th>std</th>\n",
       "      <td>867.334934</td>\n",
       "      <td>29.475324</td>\n",
       "      <td>1425.772915</td>\n",
       "    </tr>\n",
       "    <tr>\n",
       "      <th>min</th>\n",
       "      <td>1.000000</td>\n",
       "      <td>1.000000</td>\n",
       "      <td>51.030000</td>\n",
       "    </tr>\n",
       "    <tr>\n",
       "      <th>25%</th>\n",
       "      <td>747.000000</td>\n",
       "      <td>24.000000</td>\n",
       "      <td>1246.022500</td>\n",
       "    </tr>\n",
       "    <tr>\n",
       "      <th>50%</th>\n",
       "      <td>1496.500000</td>\n",
       "      <td>51.000000</td>\n",
       "      <td>2581.105000</td>\n",
       "    </tr>\n",
       "    <tr>\n",
       "      <th>75%</th>\n",
       "      <td>2250.750000</td>\n",
       "      <td>77.000000</td>\n",
       "      <td>3717.120000</td>\n",
       "    </tr>\n",
       "    <tr>\n",
       "      <th>max</th>\n",
       "      <td>3000.000000</td>\n",
       "      <td>100.000000</td>\n",
       "      <td>4996.690000</td>\n",
       "    </tr>\n",
       "  </tbody>\n",
       "</table>\n",
       "</div>"
      ],
      "text/plain": [
       "                ID   Quantidade        Preço\n",
       "count  3090.000000  2939.000000  2932.000000\n",
       "mean   1497.725890    50.455597  2511.913128\n",
       "std     867.334934    29.475324  1425.772915\n",
       "min       1.000000     1.000000    51.030000\n",
       "25%     747.000000    24.000000  1246.022500\n",
       "50%    1496.500000    51.000000  2581.105000\n",
       "75%    2250.750000    77.000000  3717.120000\n",
       "max    3000.000000   100.000000  4996.690000"
      ]
     },
     "execution_count": 49,
     "metadata": {},
     "output_type": "execute_result"
    }
   ],
   "source": [
    "df.describe(exclude ='object')"
   ]
  },
  {
   "cell_type": "code",
   "execution_count": 66,
   "id": "db4bcbef",
   "metadata": {},
   "outputs": [
    {
     "name": "stdout",
     "output_type": "stream",
     "text": [
      "<class 'pandas.core.frame.DataFrame'>\n",
      "RangeIndex: 3090 entries, 0 to 3089\n",
      "Data columns (total 7 columns):\n",
      " #   Column      Non-Null Count  Dtype  \n",
      "---  ------      --------------  -----  \n",
      " 0   ID          3090 non-null   int64  \n",
      " 1   Data        2946 non-null   object \n",
      " 2   Produto     2942 non-null   object \n",
      " 3   Categoria   2951 non-null   object \n",
      " 4   Quantidade  2939 non-null   float64\n",
      " 5   Preço       2932 non-null   float64\n",
      " 6   Pagamento   2930 non-null   object \n",
      "dtypes: float64(2), int64(1), object(4)\n",
      "memory usage: 169.1+ KB\n"
     ]
    }
   ],
   "source": [
    "df.info()"
   ]
  },
  {
   "cell_type": "markdown",
   "id": "d722b7f3",
   "metadata": {},
   "source": [
    "## Tratamento de valores faltantes "
   ]
  },
  {
   "cell_type": "code",
   "execution_count": 67,
   "id": "e188ae7a",
   "metadata": {},
   "outputs": [
    {
     "data": {
      "text/plain": [
       "np.int64(900)"
      ]
     },
     "execution_count": 67,
     "metadata": {},
     "output_type": "execute_result"
    }
   ],
   "source": [
    "\n",
    "df.isnull().sum().sum()\n"
   ]
  },
  {
   "cell_type": "code",
   "execution_count": 69,
   "id": "18fb1033",
   "metadata": {},
   "outputs": [
    {
     "name": "stdout",
     "output_type": "stream",
     "text": [
      "Porcentagem de Nulos por Coluna:\n",
      "Pagamento     5.177994\n",
      "Preço         5.113269\n",
      "Quantidade    4.886731\n",
      "Produto       4.789644\n",
      "Data          4.660194\n",
      "Categoria     4.498382\n",
      "ID            0.000000\n",
      "dtype: float64\n"
     ]
    }
   ],
   "source": [
    "porcentagem_nulos_total = df.isnull().sum() / len(df) * 100\n",
    "\n",
    "\n",
    "print(\"Porcentagem de Nulos por Coluna:\")\n",
    "print(porcentagem_nulos_total.sort_values(ascending=False))"
   ]
  },
  {
   "cell_type": "code",
   "execution_count": 70,
   "id": "19e84575",
   "metadata": {},
   "outputs": [
    {
     "data": {
      "text/plain": [
       "np.float64(29.126213592233007)"
      ]
     },
     "execution_count": 70,
     "metadata": {},
     "output_type": "execute_result"
    }
   ],
   "source": [
    "df.isnull().sum().sum() / len (df) * 100"
   ]
  },
  {
   "cell_type": "code",
   "execution_count": null,
   "id": "4a92db08",
   "metadata": {},
   "outputs": [],
   "source": [
    "df[\"Categoria\"] = df[\"Categoria\"].fillna(\"Categoria desconhecida\")\n",
    "\n",
    "df[\"Pagamento\"] = df[\"Pagamento\"].fillna(\"Não informado\")\n",
    "\n",
    "df[\"Quantidade\"] = df[\"Quantidade\"].fillna(df[\"Quantidade\"].median())\n",
    "\n",
    "df[\"Data\"] = df[\"Data\"].fillna(df[\"Data\"].mode()[0])\n",
    "\n",
    "df[\"Produto\"] = df[\"Produto\"].fillna(\"Produto não identificado\")\n",
    "\n",
    "df[\"Preço\"] = df[\"Preço\"].fillna(df[\"Preço\"].median())"
   ]
  },
  {
   "cell_type": "code",
   "execution_count": 97,
   "id": "3d2388db",
   "metadata": {},
   "outputs": [
    {
     "name": "stdout",
     "output_type": "stream",
     "text": [
      "Porcentagem de Nulos por Coluna:\n",
      "ID            0.0\n",
      "Data          0.0\n",
      "Produto       0.0\n",
      "Categoria     0.0\n",
      "Quantidade    0.0\n",
      "Preço         0.0\n",
      "Pagamento     0.0\n",
      "dtype: float64\n"
     ]
    }
   ],
   "source": [
    "porcentagem_nulos_total = df.isnull().sum() / len(df) * 100\n",
    "\n",
    "\n",
    "print(\"Porcentagem de Nulos por Coluna:\")\n",
    "print(porcentagem_nulos_total.sort_values(ascending=False))"
   ]
  },
  {
   "cell_type": "markdown",
   "id": "4432176f",
   "metadata": {},
   "source": [
    "## Remoção de duplicatas "
   ]
  },
  {
   "cell_type": "code",
   "execution_count": 72,
   "id": "73deaa82",
   "metadata": {},
   "outputs": [
    {
     "data": {
      "text/plain": [
       "np.int64(90)"
      ]
     },
     "execution_count": 72,
     "metadata": {},
     "output_type": "execute_result"
    }
   ],
   "source": [
    "df.duplicated().sum()"
   ]
  },
  {
   "cell_type": "code",
   "execution_count": 73,
   "id": "f328abf2",
   "metadata": {},
   "outputs": [
    {
     "data": {
      "text/html": [
       "<div>\n",
       "<style scoped>\n",
       "    .dataframe tbody tr th:only-of-type {\n",
       "        vertical-align: middle;\n",
       "    }\n",
       "\n",
       "    .dataframe tbody tr th {\n",
       "        vertical-align: top;\n",
       "    }\n",
       "\n",
       "    .dataframe thead th {\n",
       "        text-align: right;\n",
       "    }\n",
       "</style>\n",
       "<table border=\"1\" class=\"dataframe\">\n",
       "  <thead>\n",
       "    <tr style=\"text-align: right;\">\n",
       "      <th></th>\n",
       "      <th>ID</th>\n",
       "      <th>Data</th>\n",
       "      <th>Produto</th>\n",
       "      <th>Categoria</th>\n",
       "      <th>Quantidade</th>\n",
       "      <th>Preço</th>\n",
       "      <th>Pagamento</th>\n",
       "    </tr>\n",
       "  </thead>\n",
       "  <tbody>\n",
       "    <tr>\n",
       "      <th>3000</th>\n",
       "      <td>1802</td>\n",
       "      <td>2023-12-06</td>\n",
       "      <td>NaN</td>\n",
       "      <td>Ferramentas</td>\n",
       "      <td>90.0</td>\n",
       "      <td>1988.08</td>\n",
       "      <td>Dinheiro</td>\n",
       "    </tr>\n",
       "    <tr>\n",
       "      <th>3001</th>\n",
       "      <td>1191</td>\n",
       "      <td>2023-04-15</td>\n",
       "      <td>Botina</td>\n",
       "      <td>Segurança e EPI</td>\n",
       "      <td>32.0</td>\n",
       "      <td>1987.72</td>\n",
       "      <td>Carteira Digital</td>\n",
       "    </tr>\n",
       "    <tr>\n",
       "      <th>3002</th>\n",
       "      <td>1818</td>\n",
       "      <td>2023-12-03</td>\n",
       "      <td>Protetor Auricular</td>\n",
       "      <td>Segurança e EPI</td>\n",
       "      <td>62.0</td>\n",
       "      <td>2359.80</td>\n",
       "      <td>Carteira Digital</td>\n",
       "    </tr>\n",
       "    <tr>\n",
       "      <th>3003</th>\n",
       "      <td>252</td>\n",
       "      <td>2023-01-23</td>\n",
       "      <td>Capacete</td>\n",
       "      <td>Segurança e EPI</td>\n",
       "      <td>10.0</td>\n",
       "      <td>4704.53</td>\n",
       "      <td>Boleto</td>\n",
       "    </tr>\n",
       "    <tr>\n",
       "      <th>3004</th>\n",
       "      <td>2506</td>\n",
       "      <td>2023-08-05</td>\n",
       "      <td>Lanterna</td>\n",
       "      <td>Elétrica</td>\n",
       "      <td>2.0</td>\n",
       "      <td>1554.95</td>\n",
       "      <td>Dinheiro</td>\n",
       "    </tr>\n",
       "    <tr>\n",
       "      <th>...</th>\n",
       "      <td>...</td>\n",
       "      <td>...</td>\n",
       "      <td>...</td>\n",
       "      <td>...</td>\n",
       "      <td>...</td>\n",
       "      <td>...</td>\n",
       "      <td>...</td>\n",
       "    </tr>\n",
       "    <tr>\n",
       "      <th>3085</th>\n",
       "      <td>145</td>\n",
       "      <td>2023-01-22</td>\n",
       "      <td>Rolo de Pintura</td>\n",
       "      <td>Tintas e Acabamento</td>\n",
       "      <td>47.0</td>\n",
       "      <td>2307.31</td>\n",
       "      <td>Crédito</td>\n",
       "    </tr>\n",
       "    <tr>\n",
       "      <th>3086</th>\n",
       "      <td>2526</td>\n",
       "      <td>2023-08-29</td>\n",
       "      <td>Caixa de água</td>\n",
       "      <td>NaN</td>\n",
       "      <td>12.0</td>\n",
       "      <td>1901.79</td>\n",
       "      <td>Pix</td>\n",
       "    </tr>\n",
       "    <tr>\n",
       "      <th>3087</th>\n",
       "      <td>1331</td>\n",
       "      <td>2023-09-09</td>\n",
       "      <td>Furadeira</td>\n",
       "      <td>Ferramentas</td>\n",
       "      <td>89.0</td>\n",
       "      <td>3897.37</td>\n",
       "      <td>Dinheiro</td>\n",
       "    </tr>\n",
       "    <tr>\n",
       "      <th>3088</th>\n",
       "      <td>2478</td>\n",
       "      <td>2023-08-23</td>\n",
       "      <td>Colete Reflexivo</td>\n",
       "      <td>Segurança e EPI</td>\n",
       "      <td>77.0</td>\n",
       "      <td>2524.86</td>\n",
       "      <td>Dinheiro</td>\n",
       "    </tr>\n",
       "    <tr>\n",
       "      <th>3089</th>\n",
       "      <td>2882</td>\n",
       "      <td>2023-05-05</td>\n",
       "      <td>Registro de Água</td>\n",
       "      <td>Hidráulica</td>\n",
       "      <td>NaN</td>\n",
       "      <td>3462.50</td>\n",
       "      <td>Crédito</td>\n",
       "    </tr>\n",
       "  </tbody>\n",
       "</table>\n",
       "<p>90 rows × 7 columns</p>\n",
       "</div>"
      ],
      "text/plain": [
       "        ID        Data             Produto            Categoria  Quantidade  \\\n",
       "3000  1802  2023-12-06                 NaN          Ferramentas        90.0   \n",
       "3001  1191  2023-04-15              Botina      Segurança e EPI        32.0   \n",
       "3002  1818  2023-12-03  Protetor Auricular      Segurança e EPI        62.0   \n",
       "3003   252  2023-01-23            Capacete      Segurança e EPI        10.0   \n",
       "3004  2506  2023-08-05            Lanterna             Elétrica         2.0   \n",
       "...    ...         ...                 ...                  ...         ...   \n",
       "3085   145  2023-01-22     Rolo de Pintura  Tintas e Acabamento        47.0   \n",
       "3086  2526  2023-08-29       Caixa de água                  NaN        12.0   \n",
       "3087  1331  2023-09-09           Furadeira          Ferramentas        89.0   \n",
       "3088  2478  2023-08-23    Colete Reflexivo      Segurança e EPI        77.0   \n",
       "3089  2882  2023-05-05    Registro de Água           Hidráulica         NaN   \n",
       "\n",
       "        Preço         Pagamento  \n",
       "3000  1988.08          Dinheiro  \n",
       "3001  1987.72  Carteira Digital  \n",
       "3002  2359.80  Carteira Digital  \n",
       "3003  4704.53            Boleto  \n",
       "3004  1554.95          Dinheiro  \n",
       "...       ...               ...  \n",
       "3085  2307.31           Crédito  \n",
       "3086  1901.79               Pix  \n",
       "3087  3897.37          Dinheiro  \n",
       "3088  2524.86          Dinheiro  \n",
       "3089  3462.50           Crédito  \n",
       "\n",
       "[90 rows x 7 columns]"
      ]
     },
     "execution_count": 73,
     "metadata": {},
     "output_type": "execute_result"
    }
   ],
   "source": [
    "df_duplicadas = df[df.duplicated()]\n",
    "\n",
    "df_duplicadas"
   ]
  },
  {
   "cell_type": "code",
   "execution_count": 74,
   "id": "777432c2",
   "metadata": {},
   "outputs": [],
   "source": [
    "df_limpo = df.drop_duplicates(keep='first').copy()\n",
    "\n",
    "df_limpo.reset_index(drop=True, inplace=True)\n"
   ]
  },
  {
   "cell_type": "code",
   "execution_count": 75,
   "id": "ffebbb84",
   "metadata": {},
   "outputs": [
    {
     "data": {
      "text/plain": [
       "np.int64(0)"
      ]
     },
     "execution_count": 75,
     "metadata": {},
     "output_type": "execute_result"
    }
   ],
   "source": [
    "df_limpo.duplicated().sum()"
   ]
  },
  {
   "cell_type": "markdown",
   "id": "09ee005d",
   "metadata": {},
   "source": [
    "## Conversão de tipos de dados"
   ]
  },
  {
   "cell_type": "code",
   "execution_count": 76,
   "id": "498733a9",
   "metadata": {},
   "outputs": [
    {
     "name": "stdout",
     "output_type": "stream",
     "text": [
      "<class 'pandas.core.frame.DataFrame'>\n",
      "RangeIndex: 3000 entries, 0 to 2999\n",
      "Data columns (total 7 columns):\n",
      " #   Column      Non-Null Count  Dtype  \n",
      "---  ------      --------------  -----  \n",
      " 0   ID          3000 non-null   int64  \n",
      " 1   Data        2860 non-null   object \n",
      " 2   Produto     2857 non-null   object \n",
      " 3   Categoria   2864 non-null   object \n",
      " 4   Quantidade  2853 non-null   float64\n",
      " 5   Preço       2844 non-null   float64\n",
      " 6   Pagamento   2844 non-null   object \n",
      "dtypes: float64(2), int64(1), object(4)\n",
      "memory usage: 164.2+ KB\n"
     ]
    }
   ],
   "source": [
    "df_limpo.info()"
   ]
  },
  {
   "cell_type": "code",
   "execution_count": 59,
   "id": "9a1ffce3",
   "metadata": {},
   "outputs": [],
   "source": [
    "df_limpo['Data'] = pd.to_datetime(df_limpo['Data'])\n",
    "df_limpo['Categoria'] = df_limpo['Categoria'].astype('category')\n",
    "df_limpo['Pagamento'] = df_limpo['Pagamento'].astype('category')"
   ]
  },
  {
   "cell_type": "code",
   "execution_count": 60,
   "id": "f42a6034",
   "metadata": {},
   "outputs": [
    {
     "name": "stdout",
     "output_type": "stream",
     "text": [
      "<class 'pandas.core.frame.DataFrame'>\n",
      "RangeIndex: 3000 entries, 0 to 2999\n",
      "Data columns (total 7 columns):\n",
      " #   Column      Non-Null Count  Dtype         \n",
      "---  ------      --------------  -----         \n",
      " 0   ID          3000 non-null   int64         \n",
      " 1   Data        2860 non-null   datetime64[ns]\n",
      " 2   Produto     2857 non-null   object        \n",
      " 3   Categoria   2864 non-null   category      \n",
      " 4   Quantidade  2853 non-null   float64       \n",
      " 5   Preço       2844 non-null   float64       \n",
      " 6   Pagamento   2844 non-null   category      \n",
      "dtypes: category(2), datetime64[ns](1), float64(2), int64(1), object(1)\n",
      "memory usage: 123.9+ KB\n"
     ]
    }
   ],
   "source": [
    "df_limpo.info()"
   ]
  },
  {
   "cell_type": "markdown",
   "id": "8dbb03da",
   "metadata": {},
   "source": [
    "## Salvando o dataset limpo em um arquivo data_clean.csv"
   ]
  },
  {
   "cell_type": "code",
   "execution_count": 61,
   "id": "2d544f63",
   "metadata": {},
   "outputs": [
    {
     "name": "stdout",
     "output_type": "stream",
     "text": [
      "✅ DataFrame salvo com sucesso em 'Dataframes\\data_clean.csv'.\n"
     ]
    }
   ],
   "source": [
    "output_dir = \"Dataframes\"\n",
    "output_path = os.path.join(output_dir, \"data_clean.csv\")\n",
    "\n",
    "try:\n",
    "    # 1. Garante que o diretório de saída existe\n",
    "    os.makedirs(output_dir, exist_ok=True)\n",
    "\n",
    "    # 2. Tenta salvar o arquivo\n",
    "    df_limpo.to_csv(output_path, index=False)\n",
    "    \n",
    "    # 3. Se tudo deu certo, imprime a mensagem de sucesso\n",
    "    print(f\"✅ DataFrame salvo com sucesso em '{output_path}'.\")\n",
    "\n",
    "except FileNotFoundError:\n",
    "    # Captura erros comuns se o caminho for muito longo ou malformado\n",
    "    print(f\"❌ Erro: O caminho '{output_path}' não foi encontrado ou está muito longo.\")\n",
    "\n",
    "except PermissionError:\n",
    "    # Captura erros de permissão, comuns em discos restritos ou sistemas operacionais\n",
    "    print(f\"❌ Erro de Permissão: Não foi possível escrever no diretório '{output_dir}'. Verifique as permissões.\")\n",
    "\n",
    "except Exception as e:\n",
    "    # Captura qualquer outro erro inesperado (erro de disco, etc.)\n",
    "    print(f\"❌ Ocorreu um erro inesperado ao salvar o arquivo: {e}\")"
   ]
  }
 ],
 "metadata": {
  "kernelspec": {
   "display_name": "Python 3",
   "language": "python",
   "name": "python3"
  },
  "language_info": {
   "codemirror_mode": {
    "name": "ipython",
    "version": 3
   },
   "file_extension": ".py",
   "mimetype": "text/x-python",
   "name": "python",
   "nbconvert_exporter": "python",
   "pygments_lexer": "ipython3",
   "version": "3.13.5"
  }
 },
 "nbformat": 4,
 "nbformat_minor": 5
}
